{
 "cells": [
  {
   "cell_type": "code",
   "execution_count": 19,
   "id": "2652a4a9",
   "metadata": {},
   "outputs": [
    {
     "data": {
      "text/plain": [
       "20"
      ]
     },
     "execution_count": 19,
     "metadata": {},
     "output_type": "execute_result"
    }
   ],
   "source": [
    "#Easy 1\n",
    "a = [2, 4, 6, 8]\n",
    "\n",
    "sum(a)"
   ]
  },
  {
   "cell_type": "code",
   "execution_count": 77,
   "id": "2fa9def9",
   "metadata": {
    "scrolled": true
   },
   "outputs": [
    {
     "name": "stdout",
     "output_type": "stream",
     "text": [
      "Alex\n",
      "Bing\n",
      "Jerald\n",
      "Justin\n",
      "Theresa\n"
     ]
    }
   ],
   "source": [
    "#Easy 2\n",
    "\n",
    "b = {\n",
    "    'Alex': 49,\n",
    "    'Theresa': 55,\n",
    "    'Justin': 18,\n",
    "    'Jerald': 17,\n",
    "    'Bing': 18,\n",
    "}\n",
    "\n",
    "bb = sorted(b.keys())\n",
    "for name in bb:\n",
    "    print(name)"
   ]
  },
  {
   "cell_type": "code",
   "execution_count": 46,
   "id": "83dd3c21",
   "metadata": {},
   "outputs": [
    {
     "name": "stdout",
     "output_type": "stream",
     "text": [
      "15\n",
      "3\n"
     ]
    }
   ],
   "source": [
    "#Easy 3\n",
    "numbers_tuple = (10, 5, 8, 3, 15, 7)\n",
    "print(max(numbers_tuple))\n",
    "print(min(numbers_tuple))"
   ]
  },
  {
   "cell_type": "code",
   "execution_count": 55,
   "id": "c45214ca",
   "metadata": {},
   "outputs": [
    {
     "data": {
      "text/plain": [
       "[12, 4, 6, 10]"
      ]
     },
     "execution_count": 55,
     "metadata": {},
     "output_type": "execute_result"
    }
   ],
   "source": [
    "#Easy 4\n",
    "numbers_list = [12, 7, 9, 4, 6, 10]\n",
    "even_list = []\n",
    "for n in numbers_list:\n",
    "    if n % 2 == 0:\n",
    "        even_list.append(n)\n",
    "\n",
    "even_list"
   ]
  },
  {
   "cell_type": "code",
   "execution_count": 69,
   "id": "f99ce472",
   "metadata": {},
   "outputs": [
    {
     "data": {
      "text/plain": [
       "'123-456-7890'"
      ]
     },
     "execution_count": 69,
     "metadata": {},
     "output_type": "execute_result"
    }
   ],
   "source": [
    "# Easy 5\n",
    "# Create a dictionary that represents a phone book. Allow the user to search for a name\n",
    "#and retrieve the corresponding phone number.\n",
    "phone_book = {\n",
    "\"John Doe\": \"123-456-7890\",\n",
    "\"Jane Smith\": \"987-654-3210\",\n",
    "\"Bob Johnson\": \"555-123-4567\"\n",
    "}\n",
    "\n",
    "phone_book['John Doe']"
   ]
  },
  {
   "cell_type": "code",
   "execution_count": 72,
   "id": "cf3bccf9",
   "metadata": {},
   "outputs": [],
   "source": [
    "def search(name):\n",
    "    if name in phone_book:\n",
    "        return phone_book[name]\n",
    "    \n",
    "    else:\n",
    "        return 'Name not registered in phone book'"
   ]
  },
  {
   "cell_type": "code",
   "execution_count": 73,
   "id": "44724da7",
   "metadata": {},
   "outputs": [
    {
     "data": {
      "text/plain": [
       "'123-456-7890'"
      ]
     },
     "execution_count": 73,
     "metadata": {},
     "output_type": "execute_result"
    }
   ],
   "source": [
    "search(\"John Doe\")"
   ]
  },
  {
   "cell_type": "code",
   "execution_count": 81,
   "id": "9bb9805c",
   "metadata": {},
   "outputs": [
    {
     "data": {
      "text/plain": [
       "['awesome', 'python', 'hello', 'world', 'is']"
      ]
     },
     "execution_count": 81,
     "metadata": {},
     "output_type": "execute_result"
    }
   ],
   "source": [
    "# Easy 6\n",
    "#Given a list of strings, sort them in descending order of their lengths.\n",
    "strings_list = [\"hello\", \"world\", \"python\", \"is\", \"awesome\"]\n",
    "\n",
    "sorted_list = sorted(strings_list, key = lambda x: len(x), reverse = True)\n",
    "sorted_list"
   ]
  },
  {
   "cell_type": "markdown",
   "id": "a10926d8",
   "metadata": {},
   "source": [
    "# Medium 1"
   ]
  },
  {
   "cell_type": "code",
   "execution_count": 91,
   "id": "a2c64051",
   "metadata": {
    "scrolled": true
   },
   "outputs": [
    {
     "data": {
      "text/plain": [
       "{'a': 1, 'b': 5, 'c': 3, 'd': 4, 'e': 2, 'f': 6}"
      ]
     },
     "execution_count": 91,
     "metadata": {},
     "output_type": "execute_result"
    }
   ],
   "source": [
    "#Write a program that merges two dictionaries and sorts them by key.\n",
    "dict1 = {\"a\": 1, \"e\": 2, \"c\": 3}\n",
    "dict2 = {\"d\": 4, \"b\": 5, \"f\": 6}\n",
    "\n",
    "dict3 = dict1 | dict2\n",
    "\n",
    "dict(sorted(dict3.items()))"
   ]
  },
  {
   "cell_type": "markdown",
   "id": "bfb57619",
   "metadata": {},
   "source": [
    "# Medium 2"
   ]
  },
  {
   "cell_type": "code",
   "execution_count": 92,
   "id": "0e67ffd4",
   "metadata": {},
   "outputs": [
    {
     "data": {
      "text/plain": [
       "[('Charlie', 20), ('Alice', 25), ('Bob', 30)]"
      ]
     },
     "execution_count": 92,
     "metadata": {},
     "output_type": "execute_result"
    }
   ],
   "source": [
    "#Given a list of tuples, each containing a name and age, sort the list based on the ages in\n",
    "#ascending order.\n",
    "people_list = [(\"Alice\", 25), (\"Bob\", 30), (\"Charlie\", 20)]\n",
    "\n",
    "sorted(people_list, key = lambda x: x[1])\n",
    "#x[1] cuz its tuples"
   ]
  },
  {
   "cell_type": "markdown",
   "id": "580df87f",
   "metadata": {},
   "source": [
    "# Medium 3"
   ]
  },
  {
   "cell_type": "code",
   "execution_count": 136,
   "id": "94529fe5",
   "metadata": {},
   "outputs": [
    {
     "name": "stdout",
     "output_type": "stream",
     "text": [
      "[2, 3, 5, 7, 11, 13, 17]\n"
     ]
    }
   ],
   "source": [
    "#Create a function that takes a list of numbers and returns a new list with only the prime\n",
    "#numbers.\n",
    "numbers_list = [2, 3, 5, 7, 8, 11, 13, 17, 20]\n",
    "primelist = []\n",
    "\n",
    "def checkprime(n):\n",
    "    numfactors = 0\n",
    "    for x in range(1, n+1):\n",
    "        if n % x == 0:\n",
    "            numfactors += 1\n",
    "    if numfactors == 2:\n",
    "        primelist.append(n)\n",
    "\n",
    "for i in numbers_list:\n",
    "    checkprime(i)\n",
    "print(primelist)"
   ]
  },
  {
   "cell_type": "code",
   "execution_count": 138,
   "id": "2388257b",
   "metadata": {},
   "outputs": [
    {
     "data": {
      "text/plain": [
       "2"
      ]
     },
     "execution_count": 138,
     "metadata": {},
     "output_type": "execute_result"
    }
   ],
   "source": [
    "#Medium 4\n",
    "#Write a program to find the most common element in a list.\n",
    "elements_list = [1, 2, 3, 2, 4, 3, 5, 6, 2, 3]\n",
    "\n",
    "import statistics\n",
    "from statistics import mode\n",
    " \n",
    "mode(elements_list)"
   ]
  },
  {
   "cell_type": "code",
   "execution_count": 144,
   "id": "b7ac73b2",
   "metadata": {},
   "outputs": [
    {
     "data": {
      "text/plain": [
       "[{'name': 'Charlie', 'age': 20, 'grade': 'C'},\n",
       " {'name': 'Alice', 'age': 25, 'grade': 'A'},\n",
       " {'name': 'Bob', 'age': 30, 'grade': 'B'}]"
      ]
     },
     "execution_count": 144,
     "metadata": {},
     "output_type": "execute_result"
    }
   ],
   "source": [
    "#Medium 5\n",
    "#Given a list of dictionaries representing students' information (name, age, and grade),\n",
    "#sort the list based on the grades in descending order.\n",
    "students_list = [ {\"name\": \"Alice\", \"age\": 25, \"grade\": \"A\"},\n",
    "{\"name\": \"Bob\", \"age\": 30, \"grade\": \"B\"},\n",
    "{\"name\": \"Charlie\", \"age\": 20, \"grade\": \"C\"}\n",
    "]\n",
    "\n",
    "sorted(students_list, key = lambda x: x['age'], reverse = False)\n",
    "#i did age for this one"
   ]
  },
  {
   "cell_type": "code",
   "execution_count": 152,
   "id": "0cf15951",
   "metadata": {},
   "outputs": [
    {
     "data": {
      "text/plain": [
       "{'hello': 5, 'world': 5, 'python': 6, 'programming': 11}"
      ]
     },
     "execution_count": 152,
     "metadata": {},
     "output_type": "execute_result"
    }
   ],
   "source": [
    "#Medium 6\n",
    "#Write a function that takes a list of words and returns a dictionary where the keys are the\n",
    "#words and the values are the lengths of the words.\n",
    "words_list = [\"hello\", \"world\", \"python\", \"programming\"]\n",
    "newdict = {}\n",
    "for x in words_list:\n",
    "    newdict[x] = len(x)\n",
    "newdict"
   ]
  },
  {
   "cell_type": "markdown",
   "id": "251cd857",
   "metadata": {},
   "source": [
    "# Hard 1"
   ]
  },
  {
   "cell_type": "code",
   "execution_count": 156,
   "id": "021f55d2",
   "metadata": {},
   "outputs": [
    {
     "data": {
      "text/plain": [
       "{'John': 4, 'Jane': 4, 'ALEXANDRA': 9, 'Mark': 4, 'ROBERT': 6}"
      ]
     },
     "execution_count": 156,
     "metadata": {},
     "output_type": "execute_result"
    }
   ],
   "source": [
    "#Write a function that takes a list of names and returns a dictionary where the keys are\n",
    "#the names and the values are the lengths of the names. Filter out the names that have a\n",
    "#length greater than 5 and convert them to uppercase.\n",
    "names_list = [\"John\", \"Jane\", \"Alexandra\", \"Mark\", \"Robert\"]\n",
    "\n",
    "newdict = {}\n",
    "for name in names_list:\n",
    "    if len(name) > 5:\n",
    "        newdict[name.upper()] = len(name)\n",
    "    else:\n",
    "        newdict[name] = len(name)\n",
    "newdict"
   ]
  },
  {
   "cell_type": "code",
   "execution_count": 161,
   "id": "9a81b07e",
   "metadata": {},
   "outputs": [
    {
     "name": "stdout",
     "output_type": "stream",
     "text": [
      "dont : 4\n",
      "atticus : 2\n",
      "said : 2\n",
      "kill : 2\n",
      "mockingbird : 2\n",
      "thing : 2\n",
      "they : 2\n",
      "rather : 1\n",
      "shot : 1\n",
      "cans : 1\n",
      "backyard : 1\n",
      "know : 1\n",
      "youll : 1\n",
      "after : 1\n",
      "birds : 1\n",
      "shoot : 1\n",
      "blue : 1\n",
      "jays : 1\n",
      "want : 1\n",
      "remember : 1\n",
      "only : 1\n",
      "time : 1\n",
      "ever : 1\n",
      "heard : 1\n",
      "something : 1\n",
      "asked : 1\n",
      "miss : 1\n",
      "maudie : 1\n",
      "about : 1\n",
      "your : 1\n",
      "fathers : 1\n",
      "right : 1\n",
      "mockingbirds : 1\n",
      "make : 1\n",
      "music : 1\n",
      "enjoy : 1\n",
      "peoples : 1\n",
      "gardens : 1\n",
      "nest : 1\n",
      "corncribs : 1\n",
      "sing : 1\n",
      "their : 1\n",
      "hearts : 1\n",
      "thats : 1\n"
     ]
    }
   ],
   "source": [
    "#Hard 2\n",
    "#Implement a program that reads a text and counts the occurrences of each word. Ignore\n",
    "#common words (such as \"the,\" \"and,\" etc.) and consider only words with a length greater\n",
    "#than 3. Sort the resulting dictionary by the word counts in descending order.\n",
    "text = \"\"\"\n",
    "Atticus said to Jem one day, 'I’d rather you shot at tin cans in the backyard, but I know\n",
    "you’ll go after birds. Shoot all the blue jays you want, if you can hit 'em, but remember\n",
    "it’s a sin to kill a mockingbird.' That was the only time I ever heard Atticus say it was a\n",
    "sin to do something, and I asked Miss Maudie about it. 'Your father’s right,' she said.\n",
    "'Mockingbirds don’t do one thing but make music for us to enjoy. They don’t eat up\n",
    "people’s gardens, don’t nest in corncribs, they don’t do one thing but sing their hearts out\n",
    "for us. That’s why it’s a sin to kill a mockingbird.'\n",
    "\"\"\"\n",
    "\n",
    "# Remove special characters and convert to lowercase\n",
    "clean_text = \"\".join([char.lower() if char.isalpha() or char.isspace() else \"\" for char in text])\n",
    "\n",
    "# Split the text into words\n",
    "words = clean_text.split()\n",
    "\n",
    "# Remove common words and words with length <= 3\n",
    "common_words = [\"the\", \"and\", \"but\", \"for\", \"you\", \"can\", \"are\", \"was\", \"sin\", \"that\", \"this\"]\n",
    "filtered_words = [word for word in words if len(word) > 3 and word not in common_words]\n",
    "\n",
    "# Count the occurrences of each word\n",
    "word_counts = {}\n",
    "for word in filtered_words:\n",
    "    if word in word_counts:\n",
    "        word_counts[word] += 1\n",
    "    else:\n",
    "        word_counts[word] = 1\n",
    "\n",
    "# Sort the resulting dictionary by word counts in descending order\n",
    "sorted_word_counts = dict(sorted(word_counts.items(), key=lambda item: item[1], reverse=True))\n",
    "\n",
    "# Print the sorted word counts\n",
    "for word, count in sorted_word_counts.items():\n",
    "    print(word, \":\", count)\n"
   ]
  },
  {
   "cell_type": "code",
   "execution_count": 162,
   "id": "1350c2d3",
   "metadata": {},
   "outputs": [
    {
     "name": "stdout",
     "output_type": "stream",
     "text": [
      "Squared numbers: [4, 9, 25, 49, 64, 121, 169, 289, 400]\n"
     ]
    }
   ],
   "source": [
    "#Hard 3\n",
    "#Write a function that takes a list of numbers and returns a new list with the numbers\n",
    "#squared. Use lambda and mapping to achieve this.\n",
    "numbers_list = [2, 3, 5, 7, 8, 11, 13, 17, 20]\n",
    "\n",
    "\n",
    "def square_numbers(numbers_list):\n",
    "    squared_list = list(map(lambda x: x ** 2, numbers_list))\n",
    "    return squared_list\n",
    "\n",
    "numbers_list = [2, 3, 5, 7, 8, 11, 13, 17, 20]\n",
    "squared_numbers_list = square_numbers(numbers_list)\n",
    "\n",
    "print(\"Squared numbers:\", squared_numbers_list)\n"
   ]
  },
  {
   "cell_type": "code",
   "execution_count": 164,
   "id": "11a555ff",
   "metadata": {},
   "outputs": [
    {
     "name": "stdout",
     "output_type": "stream",
     "text": [
      "\n",
      "--- START ---\n",
      "You find yourself in a dark room. There are two doors in front of you.\n",
      "\n",
      "--- CHOICES ---\n",
      "Left -> Left_room\n",
      "Right -> Right_room\n"
     ]
    },
    {
     "ename": "KeyboardInterrupt",
     "evalue": "Interrupted by user",
     "output_type": "error",
     "traceback": [
      "\u001b[0;31m---------------------------------------------------------------------------\u001b[0m",
      "\u001b[0;31mKeyboardInterrupt\u001b[0m                         Traceback (most recent call last)",
      "Cell \u001b[0;32mIn[164], line 136\u001b[0m\n\u001b[1;32m    133\u001b[0m         \u001b[38;5;28;01melse\u001b[39;00m:\n\u001b[1;32m    134\u001b[0m             \u001b[38;5;28mprint\u001b[39m(\u001b[38;5;124m\"\u001b[39m\u001b[38;5;124mInvalid choice. Try again.\u001b[39m\u001b[38;5;124m\"\u001b[39m)\n\u001b[0;32m--> 136\u001b[0m \u001b[43mplay_game\u001b[49m\u001b[43m(\u001b[49m\u001b[43m)\u001b[49m\n",
      "Cell \u001b[0;32mIn[164], line 129\u001b[0m, in \u001b[0;36mplay_game\u001b[0;34m()\u001b[0m\n\u001b[1;32m    126\u001b[0m \u001b[38;5;28;01mfor\u001b[39;00m choice, room \u001b[38;5;129;01min\u001b[39;00m choices\u001b[38;5;241m.\u001b[39mitems():\n\u001b[1;32m    127\u001b[0m     \u001b[38;5;28mprint\u001b[39m(choice\u001b[38;5;241m.\u001b[39mcapitalize(), \u001b[38;5;124m\"\u001b[39m\u001b[38;5;124m->\u001b[39m\u001b[38;5;124m\"\u001b[39m, room\u001b[38;5;241m.\u001b[39mcapitalize())\n\u001b[0;32m--> 129\u001b[0m choice \u001b[38;5;241m=\u001b[39m \u001b[38;5;28;43minput\u001b[39;49m\u001b[43m(\u001b[49m\u001b[38;5;124;43m\"\u001b[39;49m\u001b[38;5;124;43mEnter your choice: \u001b[39;49m\u001b[38;5;124;43m\"\u001b[39;49m\u001b[43m)\u001b[49m\n\u001b[1;32m    131\u001b[0m \u001b[38;5;28;01mif\u001b[39;00m choice\u001b[38;5;241m.\u001b[39mlower() \u001b[38;5;129;01min\u001b[39;00m choices:\n\u001b[1;32m    132\u001b[0m     current_room \u001b[38;5;241m=\u001b[39m choices[choice\u001b[38;5;241m.\u001b[39mlower()]\n",
      "File \u001b[0;32m~/anaconda3/lib/python3.10/site-packages/ipykernel/kernelbase.py:1175\u001b[0m, in \u001b[0;36mKernel.raw_input\u001b[0;34m(self, prompt)\u001b[0m\n\u001b[1;32m   1171\u001b[0m \u001b[38;5;28;01mif\u001b[39;00m \u001b[38;5;129;01mnot\u001b[39;00m \u001b[38;5;28mself\u001b[39m\u001b[38;5;241m.\u001b[39m_allow_stdin:\n\u001b[1;32m   1172\u001b[0m     \u001b[38;5;28;01mraise\u001b[39;00m StdinNotImplementedError(\n\u001b[1;32m   1173\u001b[0m         \u001b[38;5;124m\"\u001b[39m\u001b[38;5;124mraw_input was called, but this frontend does not support input requests.\u001b[39m\u001b[38;5;124m\"\u001b[39m\n\u001b[1;32m   1174\u001b[0m     )\n\u001b[0;32m-> 1175\u001b[0m \u001b[38;5;28;01mreturn\u001b[39;00m \u001b[38;5;28;43mself\u001b[39;49m\u001b[38;5;241;43m.\u001b[39;49m\u001b[43m_input_request\u001b[49m\u001b[43m(\u001b[49m\n\u001b[1;32m   1176\u001b[0m \u001b[43m    \u001b[49m\u001b[38;5;28;43mstr\u001b[39;49m\u001b[43m(\u001b[49m\u001b[43mprompt\u001b[49m\u001b[43m)\u001b[49m\u001b[43m,\u001b[49m\n\u001b[1;32m   1177\u001b[0m \u001b[43m    \u001b[49m\u001b[38;5;28;43mself\u001b[39;49m\u001b[38;5;241;43m.\u001b[39;49m\u001b[43m_parent_ident\u001b[49m\u001b[43m[\u001b[49m\u001b[38;5;124;43m\"\u001b[39;49m\u001b[38;5;124;43mshell\u001b[39;49m\u001b[38;5;124;43m\"\u001b[39;49m\u001b[43m]\u001b[49m\u001b[43m,\u001b[49m\n\u001b[1;32m   1178\u001b[0m \u001b[43m    \u001b[49m\u001b[38;5;28;43mself\u001b[39;49m\u001b[38;5;241;43m.\u001b[39;49m\u001b[43mget_parent\u001b[49m\u001b[43m(\u001b[49m\u001b[38;5;124;43m\"\u001b[39;49m\u001b[38;5;124;43mshell\u001b[39;49m\u001b[38;5;124;43m\"\u001b[39;49m\u001b[43m)\u001b[49m\u001b[43m,\u001b[49m\n\u001b[1;32m   1179\u001b[0m \u001b[43m    \u001b[49m\u001b[43mpassword\u001b[49m\u001b[38;5;241;43m=\u001b[39;49m\u001b[38;5;28;43;01mFalse\u001b[39;49;00m\u001b[43m,\u001b[49m\n\u001b[1;32m   1180\u001b[0m \u001b[43m\u001b[49m\u001b[43m)\u001b[49m\n",
      "File \u001b[0;32m~/anaconda3/lib/python3.10/site-packages/ipykernel/kernelbase.py:1217\u001b[0m, in \u001b[0;36mKernel._input_request\u001b[0;34m(self, prompt, ident, parent, password)\u001b[0m\n\u001b[1;32m   1214\u001b[0m             \u001b[38;5;28;01mbreak\u001b[39;00m\n\u001b[1;32m   1215\u001b[0m \u001b[38;5;28;01mexcept\u001b[39;00m \u001b[38;5;167;01mKeyboardInterrupt\u001b[39;00m:\n\u001b[1;32m   1216\u001b[0m     \u001b[38;5;66;03m# re-raise KeyboardInterrupt, to truncate traceback\u001b[39;00m\n\u001b[0;32m-> 1217\u001b[0m     \u001b[38;5;28;01mraise\u001b[39;00m \u001b[38;5;167;01mKeyboardInterrupt\u001b[39;00m(\u001b[38;5;124m\"\u001b[39m\u001b[38;5;124mInterrupted by user\u001b[39m\u001b[38;5;124m\"\u001b[39m) \u001b[38;5;28;01mfrom\u001b[39;00m \u001b[38;5;28mNone\u001b[39m\n\u001b[1;32m   1218\u001b[0m \u001b[38;5;28;01mexcept\u001b[39;00m \u001b[38;5;167;01mException\u001b[39;00m:\n\u001b[1;32m   1219\u001b[0m     \u001b[38;5;28mself\u001b[39m\u001b[38;5;241m.\u001b[39mlog\u001b[38;5;241m.\u001b[39mwarning(\u001b[38;5;124m\"\u001b[39m\u001b[38;5;124mInvalid Message:\u001b[39m\u001b[38;5;124m\"\u001b[39m, exc_info\u001b[38;5;241m=\u001b[39m\u001b[38;5;28;01mTrue\u001b[39;00m)\n",
      "\u001b[0;31mKeyboardInterrupt\u001b[0m: Interrupted by user"
     ]
    }
   ],
   "source": [
    "#Implement a program that simulates a basic text-based RPG game. Use dictionaries to\n",
    "#represent the player's attributes (such as health, attack power, and defense), and allow\n",
    "#the player to navigate through different rooms, encountering enemies and making\n",
    "#choices that affect the game's outcome.\n",
    "import random\n",
    "\n",
    "player = {\n",
    "    \"name\": \"Player\",\n",
    "    \"health\": 100,\n",
    "    \"attack\": 20,\n",
    "    \"defense\": 10\n",
    "}\n",
    "\n",
    "rooms = {\n",
    "    \"start\": {\n",
    "        \"description\": \"You find yourself in a dark room. There are two doors in front of you.\",\n",
    "        \"choices\": {\n",
    "            \"left\": \"left_room\",\n",
    "            \"right\": \"right_room\"\n",
    "        }\n",
    "    },\n",
    "    \"left_room\": {\n",
    "        \"description\": \"You enter a room filled with treasure chests. Suddenly, a monster appears!\",\n",
    "        \"choices\": {\n",
    "            \"fight\": \"fight_monster\",\n",
    "            \"run\": \"start\"\n",
    "        }\n",
    "    },\n",
    "    \"right_room\": {\n",
    "        \"description\": \"You enter a room with a sleeping dragon. Be careful!\",\n",
    "        \"choices\": {\n",
    "            \"approach\": \"approach_dragon\",\n",
    "            \"sneak\": \"start\"\n",
    "        }\n",
    "    },\n",
    "    \"fight_monster\": {\n",
    "        \"description\": \"You engage in a fierce battle with the monster.\",\n",
    "        \"enemy\": {\n",
    "            \"name\": \"Monster\",\n",
    "            \"health\": 50,\n",
    "            \"attack\": 15,\n",
    "            \"defense\": 5\n",
    "        },\n",
    "        \"choices\": {\n",
    "            \"attack\": \"attack_monster\",\n",
    "            \"run\": \"start\"\n",
    "        }\n",
    "    },\n",
    "    \"attack_monster\": {\n",
    "        \"description\": \"You attack the monster.\",\n",
    "        \"choices\": {\n",
    "            \"continue\": \"fight_monster\"\n",
    "        }\n",
    "    },\n",
    "    \"approach_dragon\": {\n",
    "        \"description\": \"You approach the dragon carefully.\",\n",
    "        \"enemy\": {\n",
    "            \"name\": \"Dragon\",\n",
    "            \"health\": 100,\n",
    "            \"attack\": 30,\n",
    "            \"defense\": 20\n",
    "        },\n",
    "        \"choices\": {\n",
    "            \"fight\": \"fight_dragon\",\n",
    "            \"run\": \"start\"\n",
    "        }\n",
    "    },\n",
    "    \"fight_dragon\": {\n",
    "        \"description\": \"You engage in a deadly battle with the dragon.\",\n",
    "        \"choices\": {\n",
    "            \"attack\": \"attack_dragon\",\n",
    "            \"run\": \"start\"\n",
    "        }\n",
    "    },\n",
    "    \"attack_dragon\": {\n",
    "        \"description\": \"You attack the dragon.\",\n",
    "        \"choices\": {\n",
    "            \"continue\": \"fight_dragon\"\n",
    "        }\n",
    "    }\n",
    "}\n",
    "\n",
    "def play_game():\n",
    "    current_room = \"start\"\n",
    "\n",
    "    while True:\n",
    "        print(\"\\n---\", current_room.upper(), \"---\")\n",
    "        print(rooms[current_room][\"description\"])\n",
    "\n",
    "        if \"enemy\" in rooms[current_room]:\n",
    "            enemy = rooms[current_room][\"enemy\"]\n",
    "            print(\"A\", enemy[\"name\"], \"appeared! Prepare for battle.\")\n",
    "\n",
    "            while enemy[\"health\"] > 0 and player[\"health\"] > 0:\n",
    "                print(\"\\n---\", enemy[\"name\"].upper(), \"---\")\n",
    "                print(\"Player Health:\", player[\"health\"])\n",
    "                print(\"Enemy Health:\", enemy[\"health\"])\n",
    "\n",
    "                choice = input(\"Enter your action (attack/run): \")\n",
    "\n",
    "                if choice.lower() == \"attack\":\n",
    "                    player_damage = random.randint(player[\"attack\"] - 5, player[\"attack\"] + 5)\n",
    "                    enemy_damage = random.randint(enemy[\"attack\"] - 5, enemy[\"attack\"] + 5)\n",
    "                    enemy[\"health\"] -= player_damage\n",
    "                    player[\"health\"] -= enemy_damage\n",
    "                    print(\"You dealt\", player_damage, \"damage to the enemy.\")\n",
    "                    print(\"The enemy dealt\", enemy_damage, \"damage to you.\")\n",
    "\n",
    "                elif choice.lower() == \"run\":\n",
    "                    print(\"You escaped from the battle.\")\n",
    "                    break\n",
    "\n",
    "                else:\n",
    "                    print(\"Invalid choice. Try again.\")\n",
    "\n",
    "                if enemy[\"health\"] <= 0:\n",
    "                    print(\"You defeated the\", enemy[\"name\"] + \"!\")\n",
    "                    break\n",
    "\n",
    "                if player[\"health\"] <= 0:\n",
    "                    print(\"You have been defeated by the\", enemy[\"name\"] + \"!\")\n",
    "                    break\n",
    "\n",
    "        choices = rooms[current_room][\"choices\"]\n",
    "        print(\"\\n--- CHOICES ---\")\n",
    "        for choice, room in choices.items():\n",
    "            print(choice.capitalize(), \"->\", room.capitalize())\n",
    "\n",
    "        choice = input(\"Enter your choice: \")\n",
    "\n",
    "        if choice.lower() in choices:\n",
    "            current_room = choices[choice.lower()]\n",
    "        else:\n",
    "            print(\"Invalid choice. Try again.\")\n",
    "\n",
    "play_game()\n"
   ]
  },
  {
   "cell_type": "code",
   "execution_count": 166,
   "id": "33ffe4b2",
   "metadata": {},
   "outputs": [
    {
     "name": "stdout",
     "output_type": "stream",
     "text": [
      "Processed sentences: ['!DLROW OLLEH', '.NUF SI NOHTYP']\n"
     ]
    }
   ],
   "source": [
    "#hard 5\n",
    "#Create a function that takes a list of sentences and returns a new list where each\n",
    "#sentence is reversed. Exclude sentences that start with a vowel and convert the\n",
    "#remaining sentences to uppercase.\n",
    "sentences_list = [\"Hello world!\", \"Python is fun.\", \"OpenAI is awesome!\"]\n",
    "\n",
    "def process_sentences(sentences_list):\n",
    "    processed_sentences = []\n",
    "    vowels = ['a', 'e', 'i', 'o', 'u']\n",
    "\n",
    "    for sentence in sentences_list:\n",
    "        if sentence[0].lower() in vowels:\n",
    "            continue\n",
    "\n",
    "        reversed_sentence = sentence[::-1]\n",
    "        processed_sentences.append(reversed_sentence.upper())\n",
    "\n",
    "    return processed_sentences\n",
    "\n",
    "sentences_list = [\"Hello world!\", \"Python is fun.\", \"OpenAI is awesome!\"]\n",
    "processed_sentences = process_sentences(sentences_list)\n",
    "\n",
    "print(\"Processed sentences:\", processed_sentences)\n"
   ]
  },
  {
   "cell_type": "code",
   "execution_count": 169,
   "id": "331a7540",
   "metadata": {},
   "outputs": [
    {
     "name": "stdout",
     "output_type": "stream",
     "text": [
      "Congratulations, Bob! You are the oldest person at 30 years old.\n"
     ]
    }
   ],
   "source": [
    "#HARD 6\n",
    "#6. Write a program that reads a list of names and ages. Use a loop and conditionals to find\n",
    "#the oldest person(s) and print their names along with a message congratulating them.\n",
    "people = [\n",
    "{\"name\": \"Alice\", \"age\": 25},\n",
    "{\"name\": \"Bob\", \"age\": 30},\n",
    "{\"name\": \"Charlie\", \"age\": 20}\n",
    "]\n",
    "\n",
    "# Find the maximum age in the list\n",
    "max_age = max(person[\"age\"] for person in people)\n",
    "\n",
    "# Find all people with the maximum age\n",
    "oldest_people = [person for person in people if person[\"age\"] == max_age]\n",
    "\n",
    "# Print the names of the oldest people with a congratulatory message\n",
    "for person in oldest_people:\n",
    "    print(f\"Congratulations, {person['name']}! You are the oldest person at {person['age']} years old.\")\n"
   ]
  },
  {
   "cell_type": "code",
   "execution_count": 178,
   "id": "3e958a7c",
   "metadata": {},
   "outputs": [
    {
     "data": {
      "text/plain": [
       "26.08"
      ]
     },
     "execution_count": 178,
     "metadata": {},
     "output_type": "execute_result"
    }
   ],
   "source": [
    "# HARD 7\n",
    "#7. Implement a function that calculates the average temperature for each day of the week\n",
    "#based on a list of temperature records. Ignore days with missing data (represented as\n",
    "#None) and round the average temperature to two decimal places.\n",
    "temperature_records = [25.6, 28.9, 26.4, None, 27.2, 23.8, 24.6]\n",
    "recorded_temps = []\n",
    "\n",
    "for x in temperature_records:\n",
    "    if x != None:\n",
    "        recorded_temps.append(x)\n",
    "        \n",
    "average = sum(recorded_temps)/len(recorded_temps)\n",
    "\n",
    "round(average, 2)"
   ]
  },
  {
   "cell_type": "code",
   "execution_count": 195,
   "id": "5c5fdd36",
   "metadata": {},
   "outputs": [
    {
     "name": "stdout",
     "output_type": "stream",
     "text": [
      "never: 4\n",
      "that: 2\n",
      "life: 2\n",
      "question.: 1\n",
      "world's: 1\n",
      "stage,: 1\n",
      "women: 1\n",
      "merely: 1\n",
      "players.: 1\n",
      "winter: 1\n",
      "discontent.: 1\n",
      "thine: 1\n",
      "self: 1\n",
      "true.: 1\n",
      "friends,: 1\n",
      "romans,: 1\n",
      "countrymen,: 1\n",
      "lend: 1\n",
      "your: 1\n",
      "ears.: 1\n",
      "what's: 1\n",
      "name?: 1\n",
      "which: 1\n",
      "call: 1\n",
      "rose: 1\n",
      "other: 1\n",
      "name: 1\n",
      "would: 1\n",
      "smell: 1\n",
      "sweet.: 1\n",
      "beware: 1\n",
      "ides: 1\n",
      "march.: 1\n",
      "course: 1\n",
      "true: 1\n",
      "love: 1\n",
      "smooth.: 1\n",
      "cowards: 1\n",
      "many: 1\n",
      "times: 1\n",
      "before: 1\n",
      "their: 1\n",
      "deaths;: 1\n",
      "valiant: 1\n",
      "taste: 1\n",
      "death: 1\n",
      "once.: 1\n",
      "sharper: 1\n",
      "than: 1\n",
      "serpent's: 1\n",
      "tooth: 1\n",
      "have: 1\n",
      "thankless: 1\n",
      "child!: 1\n",
      "such: 1\n",
      "stuff: 1\n",
      "dreams: 1\n",
      "made: 1\n",
      "little: 1\n",
      "rounded: 1\n",
      "with: 1\n",
      "sleep.: 1\n",
      "throwing: 1\n",
      "away: 1\n",
      "shot!: 1\n",
      "past: 1\n",
      "patiently: 1\n",
      "waitin'.: 1\n",
      "passionately: 1\n",
      "smashin': 1\n",
      "every: 1\n",
      "expectation.: 1\n",
      "thing: 1\n",
      "control.: 1\n",
      "inimitable.: 1\n",
      "original.: 1\n",
      "legacy.: 1\n",
      "what: 1\n",
      "legacy?: 1\n",
      "it's: 1\n",
      "planting: 1\n",
      "seeds: 1\n",
      "garden: 1\n",
      "see.: 1\n",
      "raise: 1\n",
      "glass: 1\n",
      "freedom,: 1\n",
      "something: 1\n",
      "they: 1\n",
      "take: 1\n",
      "away.: 1\n"
     ]
    }
   ],
   "source": [
    "# HARD 8\n",
    "#8. Create a program that reads a list of sentences and counts the occurrences of each\n",
    "#word. Ignore case sensitivity and punctuation. Filter out words with a length less than 4\n",
    "#and sort the resulting dictionary by word counts.\n",
    "sentences_list = [\n",
    "\"To be, or not to be: that is the question.\",\n",
    "\"All the world's a stage, and all the men and women merely players.\",\n",
    "\"Now is the winter of our discontent.\",\n",
    "\"To thine own self be true.\",\n",
    "\"Friends, Romans, countrymen, lend me your ears.\",\n",
    "\"What's in a name? That which we call a rose by any other name would smell as sweet.\",\n",
    "\"Beware the Ides of March.\",\n",
    "\"The course of true love never did run smooth.\",\n",
    "\"Cowards die many times before their deaths; the valiant never taste of death but once.\",\n",
    "\"How sharper than a serpent's tooth it is to have a thankless child!\",\n",
    "\"We are such stuff as dreams are made on, and our little life is rounded with a sleep.\",\n",
    "\"I am not throwing away my shot!\",\n",
    "\"I'm past patiently waitin'. I'm passionately smashin' every expectation.\",\n",
    "\"I am the one thing in life I can control. I am inimitable. I am an original.\",\n",
    "\"Legacy. What is a legacy? It's planting seeds in a garden you never get to see.\",\n",
    "\"Raise a glass to freedom, something they can never take away.\"\n",
    "]\n",
    "\n",
    "def count_words(sentences_list):\n",
    "  word_counts = {}\n",
    "  for sentence in sentences_list:\n",
    "    for word in sentence.lower().split():\n",
    "      if len(word) >= 4:\n",
    "        word_counts[word] = word_counts.get(word, 0) + 1\n",
    "  return word_counts\n",
    "\n",
    "def main():\n",
    "  word_counts = count_words(sentences_list)\n",
    "  for word, count in sorted(word_counts.items(), key=lambda x: x[1], reverse=True):\n",
    "    print(f\"{word}: {count}\")\n",
    "\n",
    "if __name__ == \"__main__\":\n",
    "  main()"
   ]
  },
  {
   "cell_type": "code",
   "execution_count": 188,
   "id": "96122a78",
   "metadata": {},
   "outputs": [
    {
     "name": "stdout",
     "output_type": "stream",
     "text": [
      "(3, 9, 12, 18)\n",
      "42\n"
     ]
    }
   ],
   "source": [
    "# HARD 9 (LAST)\n",
    "#Write a function that takes a list of numbers and returns a new list with the numbers that\n",
    "#are multiples of 3. Use lambda and filtering to achieve this. Convert the resulting list to a\n",
    "#tuple and calculate the sum of its elements.\n",
    "numbers_list = [3, 8, 5, 2, 9, 12, 18]\n",
    "\n",
    "def multiples_of3(x):\n",
    "    newlist = []\n",
    "    for n in x:\n",
    "        if n%3==0:\n",
    "            newlist.append(n)\n",
    "        else:\n",
    "            continue\n",
    "    print(tuple(newlist))\n",
    "    print(sum(newlist))\n",
    "\n",
    "multiples_of3(numbers_list)"
   ]
  }
 ],
 "metadata": {
  "kernelspec": {
   "display_name": "Python 3 (ipykernel)",
   "language": "python",
   "name": "python3"
  },
  "language_info": {
   "codemirror_mode": {
    "name": "ipython",
    "version": 3
   },
   "file_extension": ".py",
   "mimetype": "text/x-python",
   "name": "python",
   "nbconvert_exporter": "python",
   "pygments_lexer": "ipython3",
   "version": "3.10.9"
  }
 },
 "nbformat": 4,
 "nbformat_minor": 5
}
