{
 "cells": [
  {
   "cell_type": "code",
   "execution_count": 1,
   "metadata": {},
   "outputs": [
    {
     "name": "stdout",
     "output_type": "stream",
     "text": [
      "Requirement already satisfied: pandas in /Users/justinchan/anaconda3/lib/python3.10/site-packages (1.5.3)\r\n",
      "Requirement already satisfied: python-dateutil>=2.8.1 in /Users/justinchan/anaconda3/lib/python3.10/site-packages (from pandas) (2.8.2)\r\n",
      "Requirement already satisfied: pytz>=2020.1 in /Users/justinchan/anaconda3/lib/python3.10/site-packages (from pandas) (2022.7)\r\n",
      "Requirement already satisfied: numpy>=1.21.0 in /Users/justinchan/anaconda3/lib/python3.10/site-packages (from pandas) (1.23.5)\r\n",
      "Requirement already satisfied: six>=1.5 in /Users/justinchan/anaconda3/lib/python3.10/site-packages (from python-dateutil>=2.8.1->pandas) (1.16.0)\r\n"
     ]
    }
   ],
   "source": [
    "# Install pandas if you don't have it yet\n",
    "!pip install pandas "
   ]
  },
  {
   "cell_type": "code",
   "execution_count": null,
   "metadata": {},
   "outputs": [],
   "source": [
    "# pandas library, documentation\n",
    "\n",
    "# https://pandas.pydata.org/docs/user_guide/index.html#user-guide\n",
    "\n",
    "# access this to read and understand the different functions in the pandas library"
   ]
  },
  {
   "cell_type": "code",
   "execution_count": 2,
   "metadata": {},
   "outputs": [],
   "source": [
    "# Importing the library\n",
    "import pandas as pd"
   ]
  },
  {
   "cell_type": "code",
   "execution_count": 4,
   "metadata": {
    "scrolled": true
   },
   "outputs": [
    {
     "data": {
      "text/html": [
       "<div>\n",
       "<style scoped>\n",
       "    .dataframe tbody tr th:only-of-type {\n",
       "        vertical-align: middle;\n",
       "    }\n",
       "\n",
       "    .dataframe tbody tr th {\n",
       "        vertical-align: top;\n",
       "    }\n",
       "\n",
       "    .dataframe thead th {\n",
       "        text-align: right;\n",
       "    }\n",
       "</style>\n",
       "<table border=\"1\" class=\"dataframe\">\n",
       "  <thead>\n",
       "    <tr style=\"text-align: right;\">\n",
       "      <th></th>\n",
       "      <th>invoice_no</th>\n",
       "      <th>customer_id</th>\n",
       "      <th>category</th>\n",
       "      <th>quantity</th>\n",
       "      <th>price</th>\n",
       "      <th>payment_method</th>\n",
       "      <th>invoice_date</th>\n",
       "      <th>shopping_mall</th>\n",
       "    </tr>\n",
       "  </thead>\n",
       "  <tbody>\n",
       "    <tr>\n",
       "      <th>0</th>\n",
       "      <td>I138884</td>\n",
       "      <td>229</td>\n",
       "      <td>Clothing</td>\n",
       "      <td>5</td>\n",
       "      <td>1500.40</td>\n",
       "      <td>Credit Card</td>\n",
       "      <td>5/8/2022</td>\n",
       "      <td>Kanyon</td>\n",
       "    </tr>\n",
       "    <tr>\n",
       "      <th>1</th>\n",
       "      <td>I317333</td>\n",
       "      <td>3433</td>\n",
       "      <td>Shoes</td>\n",
       "      <td>3</td>\n",
       "      <td>1800.51</td>\n",
       "      <td>Debit Card</td>\n",
       "      <td>12/12/2021</td>\n",
       "      <td>Forum Istanbul</td>\n",
       "    </tr>\n",
       "    <tr>\n",
       "      <th>2</th>\n",
       "      <td>I127801</td>\n",
       "      <td>644</td>\n",
       "      <td>Clothing</td>\n",
       "      <td>1</td>\n",
       "      <td>300.08</td>\n",
       "      <td>Cash</td>\n",
       "      <td>9/11/2021</td>\n",
       "      <td>Metrocity</td>\n",
       "    </tr>\n",
       "    <tr>\n",
       "      <th>3</th>\n",
       "      <td>I173702</td>\n",
       "      <td>4900</td>\n",
       "      <td>Shoes</td>\n",
       "      <td>5</td>\n",
       "      <td>3000.85</td>\n",
       "      <td>Credit Card</td>\n",
       "      <td>16/05/2021</td>\n",
       "      <td>Metropol AVM</td>\n",
       "    </tr>\n",
       "    <tr>\n",
       "      <th>4</th>\n",
       "      <td>I337046</td>\n",
       "      <td>1089</td>\n",
       "      <td>Books</td>\n",
       "      <td>4</td>\n",
       "      <td>60.60</td>\n",
       "      <td>Cash</td>\n",
       "      <td>24/10/2021</td>\n",
       "      <td>Kanyon</td>\n",
       "    </tr>\n",
       "  </tbody>\n",
       "</table>\n",
       "</div>"
      ],
      "text/plain": [
       "  invoice_no  customer_id  category  quantity    price payment_method  \\\n",
       "0    I138884          229  Clothing         5  1500.40    Credit Card   \n",
       "1    I317333         3433     Shoes         3  1800.51     Debit Card   \n",
       "2    I127801          644  Clothing         1   300.08           Cash   \n",
       "3    I173702         4900     Shoes         5  3000.85    Credit Card   \n",
       "4    I337046         1089     Books         4    60.60           Cash   \n",
       "\n",
       "  invoice_date   shopping_mall  \n",
       "0     5/8/2022          Kanyon  \n",
       "1   12/12/2021  Forum Istanbul  \n",
       "2    9/11/2021       Metrocity  \n",
       "3   16/05/2021    Metropol AVM  \n",
       "4   24/10/2021          Kanyon  "
      ]
     },
     "execution_count": 4,
     "metadata": {},
     "output_type": "execute_result"
    }
   ],
   "source": [
    "# Load CSV or other files, and open it as a DataFrame\n",
    "df = pd.read_csv(\"fct_invoice.csv\") #specify delimiter if needed\n",
    "# You might need a different function when loading xlsx or txt files...\n",
    "\n",
    "df.head() #to show first 5 rows -- can input a number inside .head(n) to show first n numbers\n",
    "\n",
    "#df.tail() to to show last 5 rows"
   ]
  },
  {
   "cell_type": "code",
   "execution_count": 6,
   "metadata": {
    "scrolled": true
   },
   "outputs": [
    {
     "data": {
      "text/html": [
       "<div>\n",
       "<style scoped>\n",
       "    .dataframe tbody tr th:only-of-type {\n",
       "        vertical-align: middle;\n",
       "    }\n",
       "\n",
       "    .dataframe tbody tr th {\n",
       "        vertical-align: top;\n",
       "    }\n",
       "\n",
       "    .dataframe thead th {\n",
       "        text-align: right;\n",
       "    }\n",
       "</style>\n",
       "<table border=\"1\" class=\"dataframe\">\n",
       "  <thead>\n",
       "    <tr style=\"text-align: right;\">\n",
       "      <th></th>\n",
       "      <th>age</th>\n",
       "      <th>first_name</th>\n",
       "      <th>gender</th>\n",
       "      <th>id</th>\n",
       "      <th>last_name</th>\n",
       "    </tr>\n",
       "  </thead>\n",
       "  <tbody>\n",
       "    <tr>\n",
       "      <th>0</th>\n",
       "      <td>48.0</td>\n",
       "      <td>Nicholas</td>\n",
       "      <td>M</td>\n",
       "      <td>0</td>\n",
       "      <td>Flores</td>\n",
       "    </tr>\n",
       "    <tr>\n",
       "      <th>1</th>\n",
       "      <td>NaN</td>\n",
       "      <td>Jeffery</td>\n",
       "      <td>M</td>\n",
       "      <td>1</td>\n",
       "      <td>Rowe</td>\n",
       "    </tr>\n",
       "    <tr>\n",
       "      <th>2</th>\n",
       "      <td>57.0</td>\n",
       "      <td>Alexis</td>\n",
       "      <td>F</td>\n",
       "      <td>2</td>\n",
       "      <td>Benton</td>\n",
       "    </tr>\n",
       "    <tr>\n",
       "      <th>3</th>\n",
       "      <td>73.0</td>\n",
       "      <td>Amy</td>\n",
       "      <td>F</td>\n",
       "      <td>3</td>\n",
       "      <td>Johnson</td>\n",
       "    </tr>\n",
       "    <tr>\n",
       "      <th>4</th>\n",
       "      <td>20.0</td>\n",
       "      <td>David</td>\n",
       "      <td>M</td>\n",
       "      <td>4</td>\n",
       "      <td>Moore</td>\n",
       "    </tr>\n",
       "    <tr>\n",
       "      <th>5</th>\n",
       "      <td>NaN</td>\n",
       "      <td>Thomas</td>\n",
       "      <td>M</td>\n",
       "      <td>5</td>\n",
       "      <td>Alexander</td>\n",
       "    </tr>\n",
       "  </tbody>\n",
       "</table>\n",
       "</div>"
      ],
      "text/plain": [
       "    age first_name gender  id  last_name\n",
       "0  48.0   Nicholas      M   0     Flores\n",
       "1   NaN    Jeffery      M   1       Rowe\n",
       "2  57.0     Alexis      F   2     Benton\n",
       "3  73.0        Amy      F   3    Johnson\n",
       "4  20.0      David      M   4      Moore\n",
       "5   NaN     Thomas      M   5  Alexander"
      ]
     },
     "execution_count": 6,
     "metadata": {},
     "output_type": "execute_result"
    }
   ],
   "source": [
    "jsondf = pd.read_json('2dim_customer.json')\n",
    "\n",
    "jsondf.head(6)"
   ]
  },
  {
   "cell_type": "markdown",
   "metadata": {},
   "source": [
    "# EASY 1"
   ]
  },
  {
   "cell_type": "code",
   "execution_count": 7,
   "metadata": {
    "scrolled": true
   },
   "outputs": [
    {
     "data": {
      "text/plain": [
       "5191"
      ]
     },
     "execution_count": 7,
     "metadata": {},
     "output_type": "execute_result"
    }
   ],
   "source": [
    "#easy 1\n",
    "\n",
    "df['customer_id'].nunique()"
   ]
  },
  {
   "cell_type": "markdown",
   "metadata": {},
   "source": [
    "# EASY 2"
   ]
  },
  {
   "cell_type": "code",
   "execution_count": 8,
   "metadata": {},
   "outputs": [
    {
     "name": "stdout",
     "output_type": "stream",
     "text": [
      "['Clothing' 'Shoes' 'Books' 'Cosmetics' 'Food & Beverage' 'Toys'\n",
      " 'Technology' 'Souvenir']\n",
      "8\n"
     ]
    }
   ],
   "source": [
    "#easy 2\n",
    "print(df['category'].unique())\n",
    "print(df['category'].nunique())"
   ]
  },
  {
   "cell_type": "markdown",
   "metadata": {},
   "source": [
    "# EASY 3"
   ]
  },
  {
   "cell_type": "code",
   "execution_count": 9,
   "metadata": {},
   "outputs": [
    {
     "name": "stdout",
     "output_type": "stream",
     "text": [
      "0    Cash\n",
      "Name: payment_method, dtype: object\n",
      "Cash           44447\n",
      "Credit Card    34931\n",
      "Debit Card     20079\n",
      "Name: payment_method, dtype: int64\n"
     ]
    }
   ],
   "source": [
    "#easy 3\n",
    "print(df['payment_method'].mode())\n",
    "print(df['payment_method'].value_counts())"
   ]
  },
  {
   "cell_type": "code",
   "execution_count": 10,
   "metadata": {
    "scrolled": false
   },
   "outputs": [
    {
     "data": {
      "text/html": [
       "<div>\n",
       "<style scoped>\n",
       "    .dataframe tbody tr th:only-of-type {\n",
       "        vertical-align: middle;\n",
       "    }\n",
       "\n",
       "    .dataframe tbody tr th {\n",
       "        vertical-align: top;\n",
       "    }\n",
       "\n",
       "    .dataframe thead th {\n",
       "        text-align: right;\n",
       "    }\n",
       "</style>\n",
       "<table border=\"1\" class=\"dataframe\">\n",
       "  <thead>\n",
       "    <tr style=\"text-align: right;\">\n",
       "      <th></th>\n",
       "      <th>invoice_no</th>\n",
       "      <th>customer_id</th>\n",
       "      <th>category</th>\n",
       "      <th>quantity</th>\n",
       "      <th>price</th>\n",
       "      <th>payment_method</th>\n",
       "      <th>invoice_date</th>\n",
       "      <th>shopping_mall</th>\n",
       "      <th>Total Sales</th>\n",
       "    </tr>\n",
       "  </thead>\n",
       "  <tbody>\n",
       "    <tr>\n",
       "      <th>0</th>\n",
       "      <td>I138884</td>\n",
       "      <td>229</td>\n",
       "      <td>Clothing</td>\n",
       "      <td>5</td>\n",
       "      <td>1500.40</td>\n",
       "      <td>Credit Card</td>\n",
       "      <td>5/8/2022</td>\n",
       "      <td>Kanyon</td>\n",
       "      <td>7502.00</td>\n",
       "    </tr>\n",
       "    <tr>\n",
       "      <th>1</th>\n",
       "      <td>I317333</td>\n",
       "      <td>3433</td>\n",
       "      <td>Shoes</td>\n",
       "      <td>3</td>\n",
       "      <td>1800.51</td>\n",
       "      <td>Debit Card</td>\n",
       "      <td>12/12/2021</td>\n",
       "      <td>Forum Istanbul</td>\n",
       "      <td>5401.53</td>\n",
       "    </tr>\n",
       "    <tr>\n",
       "      <th>2</th>\n",
       "      <td>I127801</td>\n",
       "      <td>644</td>\n",
       "      <td>Clothing</td>\n",
       "      <td>1</td>\n",
       "      <td>300.08</td>\n",
       "      <td>Cash</td>\n",
       "      <td>9/11/2021</td>\n",
       "      <td>Metrocity</td>\n",
       "      <td>300.08</td>\n",
       "    </tr>\n",
       "    <tr>\n",
       "      <th>3</th>\n",
       "      <td>I173702</td>\n",
       "      <td>4900</td>\n",
       "      <td>Shoes</td>\n",
       "      <td>5</td>\n",
       "      <td>3000.85</td>\n",
       "      <td>Credit Card</td>\n",
       "      <td>16/05/2021</td>\n",
       "      <td>Metropol AVM</td>\n",
       "      <td>15004.25</td>\n",
       "    </tr>\n",
       "    <tr>\n",
       "      <th>4</th>\n",
       "      <td>I337046</td>\n",
       "      <td>1089</td>\n",
       "      <td>Books</td>\n",
       "      <td>4</td>\n",
       "      <td>60.60</td>\n",
       "      <td>Cash</td>\n",
       "      <td>24/10/2021</td>\n",
       "      <td>Kanyon</td>\n",
       "      <td>242.40</td>\n",
       "    </tr>\n",
       "    <tr>\n",
       "      <th>...</th>\n",
       "      <td>...</td>\n",
       "      <td>...</td>\n",
       "      <td>...</td>\n",
       "      <td>...</td>\n",
       "      <td>...</td>\n",
       "      <td>...</td>\n",
       "      <td>...</td>\n",
       "      <td>...</td>\n",
       "      <td>...</td>\n",
       "    </tr>\n",
       "    <tr>\n",
       "      <th>99452</th>\n",
       "      <td>I219422</td>\n",
       "      <td>2344</td>\n",
       "      <td>Souvenir</td>\n",
       "      <td>5</td>\n",
       "      <td>58.65</td>\n",
       "      <td>Credit Card</td>\n",
       "      <td>21/09/2022</td>\n",
       "      <td>Kanyon</td>\n",
       "      <td>293.25</td>\n",
       "    </tr>\n",
       "    <tr>\n",
       "      <th>99453</th>\n",
       "      <td>I325143</td>\n",
       "      <td>172</td>\n",
       "      <td>Food &amp; Beverage</td>\n",
       "      <td>2</td>\n",
       "      <td>10.46</td>\n",
       "      <td>Cash</td>\n",
       "      <td>22/09/2021</td>\n",
       "      <td>Forum Istanbul</td>\n",
       "      <td>20.92</td>\n",
       "    </tr>\n",
       "    <tr>\n",
       "      <th>99454</th>\n",
       "      <td>I824010</td>\n",
       "      <td>425</td>\n",
       "      <td>Food &amp; Beverage</td>\n",
       "      <td>2</td>\n",
       "      <td>10.46</td>\n",
       "      <td>Debit Card</td>\n",
       "      <td>28/03/2021</td>\n",
       "      <td>Metrocity</td>\n",
       "      <td>20.92</td>\n",
       "    </tr>\n",
       "    <tr>\n",
       "      <th>99455</th>\n",
       "      <td>I702964</td>\n",
       "      <td>577</td>\n",
       "      <td>Technology</td>\n",
       "      <td>4</td>\n",
       "      <td>4200.00</td>\n",
       "      <td>Cash</td>\n",
       "      <td>16/03/2021</td>\n",
       "      <td>Istinye Park</td>\n",
       "      <td>16800.00</td>\n",
       "    </tr>\n",
       "    <tr>\n",
       "      <th>99456</th>\n",
       "      <td>I232867</td>\n",
       "      <td>30</td>\n",
       "      <td>Souvenir</td>\n",
       "      <td>3</td>\n",
       "      <td>35.19</td>\n",
       "      <td>Credit Card</td>\n",
       "      <td>15/10/2022</td>\n",
       "      <td>Mall of Istanbul</td>\n",
       "      <td>105.57</td>\n",
       "    </tr>\n",
       "  </tbody>\n",
       "</table>\n",
       "<p>99457 rows × 9 columns</p>\n",
       "</div>"
      ],
      "text/plain": [
       "      invoice_no  customer_id         category  quantity    price  \\\n",
       "0        I138884          229         Clothing         5  1500.40   \n",
       "1        I317333         3433            Shoes         3  1800.51   \n",
       "2        I127801          644         Clothing         1   300.08   \n",
       "3        I173702         4900            Shoes         5  3000.85   \n",
       "4        I337046         1089            Books         4    60.60   \n",
       "...          ...          ...              ...       ...      ...   \n",
       "99452    I219422         2344         Souvenir         5    58.65   \n",
       "99453    I325143          172  Food & Beverage         2    10.46   \n",
       "99454    I824010          425  Food & Beverage         2    10.46   \n",
       "99455    I702964          577       Technology         4  4200.00   \n",
       "99456    I232867           30         Souvenir         3    35.19   \n",
       "\n",
       "      payment_method invoice_date     shopping_mall  Total Sales  \n",
       "0        Credit Card     5/8/2022            Kanyon      7502.00  \n",
       "1         Debit Card   12/12/2021    Forum Istanbul      5401.53  \n",
       "2               Cash    9/11/2021         Metrocity       300.08  \n",
       "3        Credit Card   16/05/2021      Metropol AVM     15004.25  \n",
       "4               Cash   24/10/2021            Kanyon       242.40  \n",
       "...              ...          ...               ...          ...  \n",
       "99452    Credit Card   21/09/2022            Kanyon       293.25  \n",
       "99453           Cash   22/09/2021    Forum Istanbul        20.92  \n",
       "99454     Debit Card   28/03/2021         Metrocity        20.92  \n",
       "99455           Cash   16/03/2021      Istinye Park     16800.00  \n",
       "99456    Credit Card   15/10/2022  Mall of Istanbul       105.57  \n",
       "\n",
       "[99457 rows x 9 columns]"
      ]
     },
     "execution_count": 10,
     "metadata": {},
     "output_type": "execute_result"
    }
   ],
   "source": [
    "df['Total Sales'] = df['quantity'] * df['price']\n",
    "\n",
    "df"
   ]
  },
  {
   "cell_type": "markdown",
   "metadata": {},
   "source": [
    "# MEDIUM 1"
   ]
  },
  {
   "cell_type": "code",
   "execution_count": 11,
   "metadata": {},
   "outputs": [
    {
     "data": {
      "text/plain": [
       "category\n",
       "Clothing      1.139968e+08\n",
       "Shoes         6.655345e+07\n",
       "Technology    5.786235e+07\n",
       "Name: Total Sales, dtype: float64"
      ]
     },
     "execution_count": 11,
     "metadata": {},
     "output_type": "execute_result"
    }
   ],
   "source": [
    "#medium 1\n",
    "df.groupby('category')['Total Sales'].sum().sort_values(ascending = False).head(3)"
   ]
  },
  {
   "cell_type": "code",
   "execution_count": 12,
   "metadata": {
    "scrolled": true
   },
   "outputs": [
    {
     "name": "stderr",
     "output_type": "stream",
     "text": [
      "/var/folders/7z/qwknbm5147x07wck5lfbg1nh0000gn/T/ipykernel_45820/2143369349.py:2: FutureWarning: The default value of numeric_only in DataFrameGroupBy.sum is deprecated. In a future version, numeric_only will default to False. Either specify numeric_only or select only columns which should be valid for the function.\n",
      "  df.groupby('category').sum().sort_values('Total Sales',ascending = False).head(3)\n"
     ]
    },
    {
     "data": {
      "text/html": [
       "<div>\n",
       "<style scoped>\n",
       "    .dataframe tbody tr th:only-of-type {\n",
       "        vertical-align: middle;\n",
       "    }\n",
       "\n",
       "    .dataframe tbody tr th {\n",
       "        vertical-align: top;\n",
       "    }\n",
       "\n",
       "    .dataframe thead th {\n",
       "        text-align: right;\n",
       "    }\n",
       "</style>\n",
       "<table border=\"1\" class=\"dataframe\">\n",
       "  <thead>\n",
       "    <tr style=\"text-align: right;\">\n",
       "      <th></th>\n",
       "      <th>customer_id</th>\n",
       "      <th>quantity</th>\n",
       "      <th>price</th>\n",
       "      <th>Total Sales</th>\n",
       "    </tr>\n",
       "    <tr>\n",
       "      <th>category</th>\n",
       "      <th></th>\n",
       "      <th></th>\n",
       "      <th></th>\n",
       "      <th></th>\n",
       "    </tr>\n",
       "  </thead>\n",
       "  <tbody>\n",
       "    <tr>\n",
       "      <th>Clothing</th>\n",
       "      <td>34578159</td>\n",
       "      <td>103558</td>\n",
       "      <td>31075684.64</td>\n",
       "      <td>1.139968e+08</td>\n",
       "    </tr>\n",
       "    <tr>\n",
       "      <th>Shoes</th>\n",
       "      <td>9901187</td>\n",
       "      <td>30217</td>\n",
       "      <td>18135336.89</td>\n",
       "      <td>6.655345e+07</td>\n",
       "    </tr>\n",
       "    <tr>\n",
       "      <th>Technology</th>\n",
       "      <td>5069499</td>\n",
       "      <td>15021</td>\n",
       "      <td>15772050.00</td>\n",
       "      <td>5.786235e+07</td>\n",
       "    </tr>\n",
       "  </tbody>\n",
       "</table>\n",
       "</div>"
      ],
      "text/plain": [
       "            customer_id  quantity        price   Total Sales\n",
       "category                                                    \n",
       "Clothing       34578159    103558  31075684.64  1.139968e+08\n",
       "Shoes           9901187     30217  18135336.89  6.655345e+07\n",
       "Technology      5069499     15021  15772050.00  5.786235e+07"
      ]
     },
     "execution_count": 12,
     "metadata": {},
     "output_type": "execute_result"
    }
   ],
   "source": [
    "#medium 1\n",
    "df.groupby('category').sum().sort_values('Total Sales',ascending = False).head(3)\n",
    "#df.groupby(\"Rep\").sum().sort_values(\"Total Price\", ascending=False).head()"
   ]
  },
  {
   "cell_type": "code",
   "execution_count": 13,
   "metadata": {
    "scrolled": false
   },
   "outputs": [
    {
     "data": {
      "text/html": [
       "<div>\n",
       "<style scoped>\n",
       "    .dataframe tbody tr th:only-of-type {\n",
       "        vertical-align: middle;\n",
       "    }\n",
       "\n",
       "    .dataframe tbody tr th {\n",
       "        vertical-align: top;\n",
       "    }\n",
       "\n",
       "    .dataframe thead th {\n",
       "        text-align: right;\n",
       "    }\n",
       "</style>\n",
       "<table border=\"1\" class=\"dataframe\">\n",
       "  <thead>\n",
       "    <tr style=\"text-align: right;\">\n",
       "      <th></th>\n",
       "      <th>age</th>\n",
       "      <th>first_name</th>\n",
       "      <th>gender</th>\n",
       "      <th>id</th>\n",
       "      <th>last_name</th>\n",
       "    </tr>\n",
       "  </thead>\n",
       "  <tbody>\n",
       "    <tr>\n",
       "      <th>0</th>\n",
       "      <td>48.0</td>\n",
       "      <td>Nicholas</td>\n",
       "      <td>M</td>\n",
       "      <td>0</td>\n",
       "      <td>Flores</td>\n",
       "    </tr>\n",
       "    <tr>\n",
       "      <th>1</th>\n",
       "      <td>NaN</td>\n",
       "      <td>Jeffery</td>\n",
       "      <td>M</td>\n",
       "      <td>1</td>\n",
       "      <td>Rowe</td>\n",
       "    </tr>\n",
       "    <tr>\n",
       "      <th>2</th>\n",
       "      <td>57.0</td>\n",
       "      <td>Alexis</td>\n",
       "      <td>F</td>\n",
       "      <td>2</td>\n",
       "      <td>Benton</td>\n",
       "    </tr>\n",
       "    <tr>\n",
       "      <th>3</th>\n",
       "      <td>73.0</td>\n",
       "      <td>Amy</td>\n",
       "      <td>F</td>\n",
       "      <td>3</td>\n",
       "      <td>Johnson</td>\n",
       "    </tr>\n",
       "    <tr>\n",
       "      <th>4</th>\n",
       "      <td>20.0</td>\n",
       "      <td>David</td>\n",
       "      <td>M</td>\n",
       "      <td>4</td>\n",
       "      <td>Moore</td>\n",
       "    </tr>\n",
       "    <tr>\n",
       "      <th>...</th>\n",
       "      <td>...</td>\n",
       "      <td>...</td>\n",
       "      <td>...</td>\n",
       "      <td>...</td>\n",
       "      <td>...</td>\n",
       "    </tr>\n",
       "    <tr>\n",
       "      <th>5186</th>\n",
       "      <td>NaN</td>\n",
       "      <td>Arthur</td>\n",
       "      <td>M</td>\n",
       "      <td>9428</td>\n",
       "      <td>Harris</td>\n",
       "    </tr>\n",
       "    <tr>\n",
       "      <th>5187</th>\n",
       "      <td>NaN</td>\n",
       "      <td>David</td>\n",
       "      <td>M</td>\n",
       "      <td>9494</td>\n",
       "      <td>Roy</td>\n",
       "    </tr>\n",
       "    <tr>\n",
       "      <th>5188</th>\n",
       "      <td>85.0</td>\n",
       "      <td>Thomas</td>\n",
       "      <td>M</td>\n",
       "      <td>10350</td>\n",
       "      <td>Turner</td>\n",
       "    </tr>\n",
       "    <tr>\n",
       "      <th>5189</th>\n",
       "      <td>NaN</td>\n",
       "      <td>April</td>\n",
       "      <td>F</td>\n",
       "      <td>10587</td>\n",
       "      <td>Sanchez</td>\n",
       "    </tr>\n",
       "    <tr>\n",
       "      <th>5190</th>\n",
       "      <td>NaN</td>\n",
       "      <td>Andrew</td>\n",
       "      <td>M</td>\n",
       "      <td>10934</td>\n",
       "      <td>Compton</td>\n",
       "    </tr>\n",
       "  </tbody>\n",
       "</table>\n",
       "<p>5191 rows × 5 columns</p>\n",
       "</div>"
      ],
      "text/plain": [
       "       age first_name gender     id last_name\n",
       "0     48.0   Nicholas      M      0    Flores\n",
       "1      NaN    Jeffery      M      1      Rowe\n",
       "2     57.0     Alexis      F      2    Benton\n",
       "3     73.0        Amy      F      3   Johnson\n",
       "4     20.0      David      M      4     Moore\n",
       "...    ...        ...    ...    ...       ...\n",
       "5186   NaN     Arthur      M   9428    Harris\n",
       "5187   NaN      David      M   9494       Roy\n",
       "5188  85.0     Thomas      M  10350    Turner\n",
       "5189   NaN      April      F  10587   Sanchez\n",
       "5190   NaN     Andrew      M  10934   Compton\n",
       "\n",
       "[5191 rows x 5 columns]"
      ]
     },
     "execution_count": 13,
     "metadata": {},
     "output_type": "execute_result"
    }
   ],
   "source": [
    "jsondf"
   ]
  },
  {
   "cell_type": "code",
   "execution_count": 14,
   "metadata": {},
   "outputs": [
    {
     "data": {
      "text/plain": [
       "0       48.0\n",
       "1        NaN\n",
       "2       57.0\n",
       "3       73.0\n",
       "4       20.0\n",
       "        ... \n",
       "5186     NaN\n",
       "5187     NaN\n",
       "5188    85.0\n",
       "5189     NaN\n",
       "5190     NaN\n",
       "Name: age, Length: 5191, dtype: float64"
      ]
     },
     "execution_count": 14,
     "metadata": {},
     "output_type": "execute_result"
    }
   ],
   "source": [
    "jsondf['age']"
   ]
  },
  {
   "cell_type": "code",
   "execution_count": 15,
   "metadata": {},
   "outputs": [],
   "source": [
    "over45 = jsondf[jsondf['age']>45]['id']"
   ]
  },
  {
   "cell_type": "code",
   "execution_count": 16,
   "metadata": {},
   "outputs": [
    {
     "data": {
      "text/plain": [
       "0           0\n",
       "2           2\n",
       "3           3\n",
       "6           6\n",
       "10         10\n",
       "        ...  \n",
       "5181     8888\n",
       "5182     8889\n",
       "5184     9150\n",
       "5185     9344\n",
       "5188    10350\n",
       "Name: id, Length: 1655, dtype: int64"
      ]
     },
     "execution_count": 16,
     "metadata": {},
     "output_type": "execute_result"
    }
   ],
   "source": [
    "over45"
   ]
  },
  {
   "cell_type": "code",
   "execution_count": 33,
   "metadata": {},
   "outputs": [
    {
     "data": {
      "text/plain": [
       "82039768.15"
      ]
     },
     "execution_count": 33,
     "metadata": {},
     "output_type": "execute_result"
    }
   ],
   "source": [
    "sales_over45 = df[df['customer_id'].isin(over45)]\n",
    "sales_over45['Total Sales'].sum()"
   ]
  },
  {
   "cell_type": "markdown",
   "metadata": {},
   "source": [
    "# ANSWER TO MEDIUM 2"
   ]
  },
  {
   "cell_type": "code",
   "execution_count": 34,
   "metadata": {
    "scrolled": true
   },
   "outputs": [
    {
     "name": "stdout",
     "output_type": "stream",
     "text": [
      "The total sales attributed to customers over the age of 45 is 82039768.15\n"
     ]
    }
   ],
   "source": [
    "print('The total sales attributed to customers over the age of 45 is 82039768.15')"
   ]
  },
  {
   "cell_type": "code",
   "execution_count": 18,
   "metadata": {
    "scrolled": false
   },
   "outputs": [
    {
     "data": {
      "text/plain": [
       "year  month\n",
       "2021  1         9641614.62\n",
       "      2         8772315.22\n",
       "      3         9455359.38\n",
       "      4         9389541.54\n",
       "      5         9771756.97\n",
       "      6         9286271.35\n",
       "      7        10311119.68\n",
       "      8         9630655.70\n",
       "      9         9188165.62\n",
       "      10       10263015.06\n",
       "      11        9265555.29\n",
       "      12        9585200.16\n",
       "2022  1         9764311.14\n",
       "      2         8344111.92\n",
       "      3         9986685.16\n",
       "      4         9326144.44\n",
       "      5         9947574.13\n",
       "      6         9647503.95\n",
       "      7        10067602.95\n",
       "      8         9651705.59\n",
       "      9         9607629.29\n",
       "      10       10282075.37\n",
       "      11        8941584.66\n",
       "      12        9869885.48\n",
       "2023  1         9485599.83\n",
       "      2         9508662.96\n",
       "      3         2514146.79\n",
       "Name: Total Sales, dtype: float64"
      ]
     },
     "execution_count": 18,
     "metadata": {},
     "output_type": "execute_result"
    }
   ],
   "source": [
    "#Medium 3\n",
    "import numpy as np\n",
    "import matplotlib.pyplot as plt\n",
    "import pandas as pd\n",
    "\n",
    "# Convert the 'invoice_date' column to datetime if it's not already in that format\n",
    "df['invoice_date'] = pd.to_datetime(df['invoice_date'], format = '%d/%m/%Y')\n",
    "df['year'] = df['invoice_date'].dt.year\n",
    "df['month'] = df['invoice_date'].dt.month\n",
    "\n",
    "sales_distribution = df.groupby(['year','month'])['Total Sales'].sum()\n",
    "sales_distribution"
   ]
  },
  {
   "cell_type": "markdown",
   "metadata": {},
   "source": [
    "# MEDIUM 3 (GRAPH)"
   ]
  },
  {
   "cell_type": "code",
   "execution_count": 19,
   "metadata": {
    "scrolled": true
   },
   "outputs": [
    {
     "data": {
      "image/png": "[encoded data removed]",
      "text/plain": [
       "<Figure size 1000x600 with 1 Axes>"
      ]
     },
     "metadata": {},
     "output_type": "display_data"
    }
   ],
   "source": [
    "sales_distribution = sales_distribution.unstack(level=0)\n",
    "sales_distribution.plot(kind=\"line\", figsize=(10,6))\n",
    "month_names = ['January', 'February', 'March', 'April', 'May',' June', 'July','August','September','October','November','December']\n",
    "plt.title(\"Distribution of Sales over Time in Months\")\n",
    "plt.xlabel(\"Month\")\n",
    "plt.xticks(range(1,13), month_names)\n",
    "plt.ylabel(\"Sales\")\n",
    "plt.legend([\"2021\", \"2022\", \"2023\"])\n",
    "plt.show()"
   ]
  },
  {
   "cell_type": "markdown",
   "metadata": {},
   "source": [
    "# MEDIUM 3 (SEASONAL ANALYSIS)"
   ]
  },
  {
   "cell_type": "code",
   "execution_count": 20,
   "metadata": {
    "scrolled": false
   },
   "outputs": [
    {
     "data": {
      "text/plain": [
       "'\\nSEASONAL ANALYSIS OF MEDIUM #3\\n- Sales increase/surge in the months of March, May, July, October, and December\\n- Sales decrease in the months of February, April, August, and November\\n- Sales greatlt decrease on February and November\\n- July has the highest sales, followed by October\\n- The graph lacks data for sales trends in 2023\\n'"
      ]
     },
     "execution_count": 20,
     "metadata": {},
     "output_type": "execute_result"
    }
   ],
   "source": [
    "'''\n",
    "SEASONAL ANALYSIS OF MEDIUM #3\n",
    "- Sales increase/surge in the months of March, May, July, October, and December\n",
    "- Sales decrease in the months of February, April, August, and November\n",
    "- Sales greatlt decrease on February and November\n",
    "- July has the highest sales, followed by October\n",
    "- The graph lacks data for sales trends in 2023\n",
    "'''"
   ]
  },
  {
   "cell_type": "code",
   "execution_count": 21,
   "metadata": {},
   "outputs": [
    {
     "data": {
      "text/html": [
       "<div>\n",
       "<style scoped>\n",
       "    .dataframe tbody tr th:only-of-type {\n",
       "        vertical-align: middle;\n",
       "    }\n",
       "\n",
       "    .dataframe tbody tr th {\n",
       "        vertical-align: top;\n",
       "    }\n",
       "\n",
       "    .dataframe thead th {\n",
       "        text-align: right;\n",
       "    }\n",
       "</style>\n",
       "<table border=\"1\" class=\"dataframe\">\n",
       "  <thead>\n",
       "    <tr style=\"text-align: right;\">\n",
       "      <th></th>\n",
       "      <th>age</th>\n",
       "      <th>first_name</th>\n",
       "      <th>gender</th>\n",
       "      <th>customer_id</th>\n",
       "      <th>last_name</th>\n",
       "    </tr>\n",
       "  </thead>\n",
       "  <tbody>\n",
       "    <tr>\n",
       "      <th>0</th>\n",
       "      <td>48.0</td>\n",
       "      <td>Nicholas</td>\n",
       "      <td>M</td>\n",
       "      <td>0</td>\n",
       "      <td>Flores</td>\n",
       "    </tr>\n",
       "    <tr>\n",
       "      <th>1</th>\n",
       "      <td>NaN</td>\n",
       "      <td>Jeffery</td>\n",
       "      <td>M</td>\n",
       "      <td>1</td>\n",
       "      <td>Rowe</td>\n",
       "    </tr>\n",
       "    <tr>\n",
       "      <th>2</th>\n",
       "      <td>57.0</td>\n",
       "      <td>Alexis</td>\n",
       "      <td>F</td>\n",
       "      <td>2</td>\n",
       "      <td>Benton</td>\n",
       "    </tr>\n",
       "    <tr>\n",
       "      <th>3</th>\n",
       "      <td>73.0</td>\n",
       "      <td>Amy</td>\n",
       "      <td>F</td>\n",
       "      <td>3</td>\n",
       "      <td>Johnson</td>\n",
       "    </tr>\n",
       "    <tr>\n",
       "      <th>4</th>\n",
       "      <td>20.0</td>\n",
       "      <td>David</td>\n",
       "      <td>M</td>\n",
       "      <td>4</td>\n",
       "      <td>Moore</td>\n",
       "    </tr>\n",
       "    <tr>\n",
       "      <th>...</th>\n",
       "      <td>...</td>\n",
       "      <td>...</td>\n",
       "      <td>...</td>\n",
       "      <td>...</td>\n",
       "      <td>...</td>\n",
       "    </tr>\n",
       "    <tr>\n",
       "      <th>5186</th>\n",
       "      <td>NaN</td>\n",
       "      <td>Arthur</td>\n",
       "      <td>M</td>\n",
       "      <td>9428</td>\n",
       "      <td>Harris</td>\n",
       "    </tr>\n",
       "    <tr>\n",
       "      <th>5187</th>\n",
       "      <td>NaN</td>\n",
       "      <td>David</td>\n",
       "      <td>M</td>\n",
       "      <td>9494</td>\n",
       "      <td>Roy</td>\n",
       "    </tr>\n",
       "    <tr>\n",
       "      <th>5188</th>\n",
       "      <td>85.0</td>\n",
       "      <td>Thomas</td>\n",
       "      <td>M</td>\n",
       "      <td>10350</td>\n",
       "      <td>Turner</td>\n",
       "    </tr>\n",
       "    <tr>\n",
       "      <th>5189</th>\n",
       "      <td>NaN</td>\n",
       "      <td>April</td>\n",
       "      <td>F</td>\n",
       "      <td>10587</td>\n",
       "      <td>Sanchez</td>\n",
       "    </tr>\n",
       "    <tr>\n",
       "      <th>5190</th>\n",
       "      <td>NaN</td>\n",
       "      <td>Andrew</td>\n",
       "      <td>M</td>\n",
       "      <td>10934</td>\n",
       "      <td>Compton</td>\n",
       "    </tr>\n",
       "  </tbody>\n",
       "</table>\n",
       "<p>5191 rows × 5 columns</p>\n",
       "</div>"
      ],
      "text/plain": [
       "       age first_name gender  customer_id last_name\n",
       "0     48.0   Nicholas      M            0    Flores\n",
       "1      NaN    Jeffery      M            1      Rowe\n",
       "2     57.0     Alexis      F            2    Benton\n",
       "3     73.0        Amy      F            3   Johnson\n",
       "4     20.0      David      M            4     Moore\n",
       "...    ...        ...    ...          ...       ...\n",
       "5186   NaN     Arthur      M         9428    Harris\n",
       "5187   NaN      David      M         9494       Roy\n",
       "5188  85.0     Thomas      M        10350    Turner\n",
       "5189   NaN      April      F        10587   Sanchez\n",
       "5190   NaN     Andrew      M        10934   Compton\n",
       "\n",
       "[5191 rows x 5 columns]"
      ]
     },
     "execution_count": 21,
     "metadata": {},
     "output_type": "execute_result"
    }
   ],
   "source": [
    "pivotjson = jsondf.copy()\n",
    "newpivotjson = pivotjson.rename(columns = {'id':'customer_id'})\n",
    "newpivotjson"
   ]
  },
  {
   "cell_type": "markdown",
   "metadata": {},
   "source": [
    "# HARD 1 (PIVOT TABLE)"
   ]
  },
  {
   "cell_type": "code",
   "execution_count": 24,
   "metadata": {},
   "outputs": [
    {
     "data": {
      "text/html": [
       "<div>\n",
       "<style scoped>\n",
       "    .dataframe tbody tr th:only-of-type {\n",
       "        vertical-align: middle;\n",
       "    }\n",
       "\n",
       "    .dataframe tbody tr th {\n",
       "        vertical-align: top;\n",
       "    }\n",
       "\n",
       "    .dataframe thead th {\n",
       "        text-align: right;\n",
       "    }\n",
       "</style>\n",
       "<table border=\"1\" class=\"dataframe\">\n",
       "  <thead>\n",
       "    <tr style=\"text-align: right;\">\n",
       "      <th>category</th>\n",
       "      <th>Books</th>\n",
       "      <th>Clothing</th>\n",
       "      <th>Cosmetics</th>\n",
       "      <th>Food &amp; Beverage</th>\n",
       "      <th>Shoes</th>\n",
       "      <th>Souvenir</th>\n",
       "      <th>Technology</th>\n",
       "      <th>Toys</th>\n",
       "    </tr>\n",
       "    <tr>\n",
       "      <th>age_range</th>\n",
       "      <th></th>\n",
       "      <th></th>\n",
       "      <th></th>\n",
       "      <th></th>\n",
       "      <th></th>\n",
       "      <th></th>\n",
       "      <th></th>\n",
       "      <th></th>\n",
       "    </tr>\n",
       "  </thead>\n",
       "  <tbody>\n",
       "    <tr>\n",
       "      <th>[10, 20)</th>\n",
       "      <td>12801.75</td>\n",
       "      <td>1927413.84</td>\n",
       "      <td>109619.36</td>\n",
       "      <td>13582.31</td>\n",
       "      <td>993281.35</td>\n",
       "      <td>12375.15</td>\n",
       "      <td>1129800.0</td>\n",
       "      <td>60426.24</td>\n",
       "    </tr>\n",
       "    <tr>\n",
       "      <th>[20, 30)</th>\n",
       "      <td>79461.75</td>\n",
       "      <td>10250732.80</td>\n",
       "      <td>605915.32</td>\n",
       "      <td>73491.96</td>\n",
       "      <td>5924878.24</td>\n",
       "      <td>54943.32</td>\n",
       "      <td>5261550.0</td>\n",
       "      <td>385100.80</td>\n",
       "    </tr>\n",
       "    <tr>\n",
       "      <th>[30, 40)</th>\n",
       "      <td>84143.10</td>\n",
       "      <td>11354126.96</td>\n",
       "      <td>723544.70</td>\n",
       "      <td>87246.86</td>\n",
       "      <td>7200839.66</td>\n",
       "      <td>64092.72</td>\n",
       "      <td>6159300.0</td>\n",
       "      <td>420582.40</td>\n",
       "    </tr>\n",
       "    <tr>\n",
       "      <th>[40, 50)</th>\n",
       "      <td>87203.40</td>\n",
       "      <td>11215189.92</td>\n",
       "      <td>665034.96</td>\n",
       "      <td>89553.29</td>\n",
       "      <td>7025590.02</td>\n",
       "      <td>66391.80</td>\n",
       "      <td>5954550.0</td>\n",
       "      <td>390906.88</td>\n",
       "    </tr>\n",
       "    <tr>\n",
       "      <th>[50, 60)</th>\n",
       "      <td>74962.20</td>\n",
       "      <td>10321851.76</td>\n",
       "      <td>587780.96</td>\n",
       "      <td>72425.04</td>\n",
       "      <td>5852857.84</td>\n",
       "      <td>54943.32</td>\n",
       "      <td>4435200.0</td>\n",
       "      <td>345067.52</td>\n",
       "    </tr>\n",
       "    <tr>\n",
       "      <th>[60, 70)</th>\n",
       "      <td>80476.80</td>\n",
       "      <td>10660642.08</td>\n",
       "      <td>649990.76</td>\n",
       "      <td>80976.09</td>\n",
       "      <td>5978893.54</td>\n",
       "      <td>55025.43</td>\n",
       "      <td>5471550.0</td>\n",
       "      <td>363955.20</td>\n",
       "    </tr>\n",
       "    <tr>\n",
       "      <th>[70, 80)</th>\n",
       "      <td>54827.85</td>\n",
       "      <td>7769371.28</td>\n",
       "      <td>419082.62</td>\n",
       "      <td>55050.98</td>\n",
       "      <td>4480269.05</td>\n",
       "      <td>38673.81</td>\n",
       "      <td>3638250.0</td>\n",
       "      <td>273244.16</td>\n",
       "    </tr>\n",
       "    <tr>\n",
       "      <th>[80, 90)</th>\n",
       "      <td>26664.00</td>\n",
       "      <td>4493698.00</td>\n",
       "      <td>254531.60</td>\n",
       "      <td>31332.93</td>\n",
       "      <td>2628744.60</td>\n",
       "      <td>23718.06</td>\n",
       "      <td>1946700.0</td>\n",
       "      <td>153932.80</td>\n",
       "    </tr>\n",
       "  </tbody>\n",
       "</table>\n",
       "</div>"
      ],
      "text/plain": [
       "category      Books     Clothing  Cosmetics  Food & Beverage       Shoes  \\\n",
       "age_range                                                                  \n",
       "[10, 20)   12801.75   1927413.84  109619.36         13582.31   993281.35   \n",
       "[20, 30)   79461.75  10250732.80  605915.32         73491.96  5924878.24   \n",
       "[30, 40)   84143.10  11354126.96  723544.70         87246.86  7200839.66   \n",
       "[40, 50)   87203.40  11215189.92  665034.96         89553.29  7025590.02   \n",
       "[50, 60)   74962.20  10321851.76  587780.96         72425.04  5852857.84   \n",
       "[60, 70)   80476.80  10660642.08  649990.76         80976.09  5978893.54   \n",
       "[70, 80)   54827.85   7769371.28  419082.62         55050.98  4480269.05   \n",
       "[80, 90)   26664.00   4493698.00  254531.60         31332.93  2628744.60   \n",
       "\n",
       "category   Souvenir  Technology       Toys  \n",
       "age_range                                   \n",
       "[10, 20)   12375.15   1129800.0   60426.24  \n",
       "[20, 30)   54943.32   5261550.0  385100.80  \n",
       "[30, 40)   64092.72   6159300.0  420582.40  \n",
       "[40, 50)   66391.80   5954550.0  390906.88  \n",
       "[50, 60)   54943.32   4435200.0  345067.52  \n",
       "[60, 70)   55025.43   5471550.0  363955.20  \n",
       "[70, 80)   38673.81   3638250.0  273244.16  \n",
       "[80, 90)   23718.06   1946700.0  153932.80  "
      ]
     },
     "execution_count": 24,
     "metadata": {},
     "output_type": "execute_result"
    }
   ],
   "source": [
    "#HARD\n",
    "pivotdf = pd.merge(df, newpivotjson, on='customer_id')\n",
    "pivotdf[\"age_range\"] = pd.cut(pivotdf[\"age\"], bins=range(10, 91, 10), right=False)\n",
    "pivot_table = pd.pivot_table(pivotdf, values=\"Total Sales\", index=\"age_range\", columns=\"category\", aggfunc=\"sum\")\n",
    "pivot_table"
   ]
  }
 ],
 "metadata": {
  "kernelspec": {
   "display_name": "Python 3 (ipykernel)",
   "language": "python",
   "name": "python3"
  },
  "language_info": {
   "codemirror_mode": {
    "name": "ipython",
    "version": 3
   },
   "file_extension": ".py",
   "mimetype": "text/x-python",
   "name": "python",
   "nbconvert_exporter": "python",
   "pygments_lexer": "ipython3",
   "version": "3.10.9"
  }
 },
 "nbformat": 4,
 "nbformat_minor": 2
}
