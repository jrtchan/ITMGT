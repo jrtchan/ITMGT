{
 "cells": [
  {
   "cell_type": "code",
   "execution_count": 6,
   "id": "de8b777e",
   "metadata": {},
   "outputs": [
    {
     "name": "stdout",
     "output_type": "stream",
     "text": [
      "Enter a number: 0\n",
      "zero\n"
     ]
    }
   ],
   "source": [
    "#IF Statements\n",
    "# 1. Easy Exercise\n",
    "\n",
    "number = input(\"Enter a number: \")\n",
    "\n",
    "if int(number) > 0:\n",
    "    print(\"positive\")\n",
    "    \n",
    "elif int(number) < 0: \n",
    "    print(\"negative\")\n",
    "    \n",
    "else:\n",
    "    print(\"zero\")"
   ]
  },
  {
   "cell_type": "code",
   "execution_count": 13,
   "id": "1b228e9b",
   "metadata": {},
   "outputs": [
    {
     "name": "stdout",
     "output_type": "stream",
     "text": [
      "Enter the numeric grade: 88\n",
      "B\n"
     ]
    }
   ],
   "source": [
    "# 2. Medium Exercise\n",
    "\n",
    "num_grade = input(\"Enter the numeric grade: \")\n",
    "\n",
    "if int(num_grade) >= 92:\n",
    "    print(\"A\")\n",
    "\n",
    "elif int(num_grade) >= 80:\n",
    "    print(\"B\")\n",
    "    \n",
    "elif int(num_grade) >= 70:\n",
    "    print(\"C\")\n",
    "    \n",
    "elif int(num_grade) >= 60:\n",
    "    print(\"D\")\n",
    "    \n",
    "else:\n",
    "    print(\"F\")"
   ]
  },
  {
   "cell_type": "code",
   "execution_count": 52,
   "id": "f378fdb8",
   "metadata": {},
   "outputs": [
    {
     "name": "stdout",
     "output_type": "stream",
     "text": [
      "Enter a year: 2000\n",
      "2000 is a leap year!\n"
     ]
    }
   ],
   "source": [
    "#3. Hard Exercise\n",
    "\n",
    "year = int(input(\"Enter a year: \"))\n",
    "\n",
    "if year%400 == 0:\n",
    "    print(year, \"is a leap year!\")\n",
    "    \n",
    "elif year%100 == 0:\n",
    "    print(year, \"is not a leap year!\")\n",
    "\n",
    "elif year%4 == 0:\n",
    "    print(year, \"is a leap year!\")\n",
    "    \n",
    "else:\n",
    "    print(year, \"is not a leap year!!\")"
   ]
  },
  {
   "cell_type": "code",
   "execution_count": 28,
   "id": "79f1ec72",
   "metadata": {},
   "outputs": [
    {
     "name": "stdout",
     "output_type": "stream",
     "text": [
      "1\n",
      "2\n",
      "3\n",
      "4\n",
      "5\n",
      "6\n",
      "7\n",
      "8\n",
      "9\n",
      "10\n"
     ]
    }
   ],
   "source": [
    "#FOR LOOPS:\n",
    "#1. Easy Exercise: Sum of Numbers\n",
    "\n",
    "numbers = [1,2,3,4,5,6,7,8,9,10]\n",
    "\n",
    "for a in numbers:\n",
    "    print(a)"
   ]
  },
  {
   "cell_type": "code",
   "execution_count": 32,
   "id": "807ebc44",
   "metadata": {},
   "outputs": [
    {
     "name": "stdout",
     "output_type": "stream",
     "text": [
      "1\n",
      "2\n",
      "3\n",
      "4\n",
      "5\n",
      "6\n",
      "7\n",
      "8\n",
      "9\n",
      "10\n"
     ]
    }
   ],
   "source": [
    "for a in range(1,11):\n",
    "    print(a)"
   ]
  },
  {
   "cell_type": "code",
   "execution_count": 33,
   "id": "e8f9c9c1",
   "metadata": {},
   "outputs": [
    {
     "name": "stdout",
     "output_type": "stream",
     "text": [
      "55\n"
     ]
    }
   ],
   "source": [
    "for a in numbers:\n",
    "    print(sum(numbers))\n",
    "    break"
   ]
  },
  {
   "cell_type": "code",
   "execution_count": 34,
   "id": "f6971df8",
   "metadata": {},
   "outputs": [
    {
     "ename": "SyntaxError",
     "evalue": "expected ':' (2861119827.py, line 3)",
     "output_type": "error",
     "traceback": [
      "\u001b[0;36m  Cell \u001b[0;32mIn[34], line 3\u001b[0;36m\u001b[0m\n\u001b[0;31m    for b in range(0, mult_num)\u001b[0m\n\u001b[0m                               ^\u001b[0m\n\u001b[0;31mSyntaxError\u001b[0m\u001b[0;31m:\u001b[0m expected ':'\n"
     ]
    }
   ],
   "source": [
    "mult_num = input(\"Enter a number that the program will multiply to 10: \")\n",
    "\n",
    "for b in range(0, mult_num)"
   ]
  },
  {
   "cell_type": "code",
   "execution_count": 27,
   "id": "e491f832",
   "metadata": {},
   "outputs": [
    {
     "name": "stdout",
     "output_type": "stream",
     "text": [
      "Enter the number you want to take the factorial of: 5\n",
      "120\n"
     ]
    }
   ],
   "source": [
    "#factorial problem medium exercise:\n",
    "#5! = 5 x 4 x 3 x 2 x 1\n",
    "#1. prompt user to enter positive int\n",
    "#2. calculating the factorial using while and if\n",
    "#3. displaying the factorial\n",
    "\n",
    "#1. Prompting\n",
    "num = int(input(\"Enter the number you want to take the factorial of: \"))\n",
    "\n",
    "#2. Caluclating using loop\n",
    "result = 1\n",
    "\n",
    "for i in range (1, num+1):\n",
    "    result = result * i # --> result *= i\n",
    "    \n",
    "#3. displaying\n",
    "\n",
    "print(result)"
   ]
  },
  {
   "cell_type": "code",
   "execution_count": 39,
   "id": "f8226fb8",
   "metadata": {},
   "outputs": [
    {
     "name": "stdout",
     "output_type": "stream",
     "text": [
      "Enter the number you want to take the factorial of: 5\n",
      "120\n"
     ]
    }
   ],
   "source": [
    "#using while and if\n",
    "\n",
    "#ctr is counter\n",
    "#1. Prompting\n",
    "num = int(input(\"Enter the number you want to take the factorial of: \"))\n",
    "\n",
    "#2. Caluclating using loop\n",
    "ctr = 1\n",
    "result = 1\n",
    "\n",
    "while True:\n",
    "    result = result *ctr\n",
    "    ctr = ctr + 1\n",
    "    \n",
    "    if ctr>num:\n",
    "        break\n",
    "    \n",
    "#3. displaying\n",
    "\n",
    "print(result)\n",
    "#sir likes while True (then break after) better than while condition, but this is his personal preference"
   ]
  },
  {
   "cell_type": "code",
   "execution_count": 43,
   "id": "dc8c0999",
   "metadata": {},
   "outputs": [
    {
     "name": "stdout",
     "output_type": "stream",
     "text": [
      "Enter your password trial: p\n",
      "Enter your password trial: password 123\n",
      "Access Granted\n"
     ]
    }
   ],
   "source": [
    "real_password = \"password 123\"\n",
    "\n",
    "while True:\n",
    "    pass_check = input(\"Enter your password trial: \")\n",
    "    \n",
    "    if pass_check == real_password:\n",
    "        print(\"Access Granted\")\n",
    "        break"
   ]
  },
  {
   "cell_type": "code",
   "execution_count": null,
   "id": "452148ea",
   "metadata": {},
   "outputs": [],
   "source": [
    "# if statements\n",
    "#and\n",
    "#loops\n",
    "\n",
    "Control flows:\n",
    "    - they make ur code run a particular block of code"
   ]
  },
  {
   "cell_type": "code",
   "execution_count": 47,
   "id": "b7f13195",
   "metadata": {},
   "outputs": [
    {
     "name": "stdout",
     "output_type": "stream",
     "text": [
      "6\n"
     ]
    }
   ],
   "source": [
    "# prime number --> factors are 1 and itself aside from 1 \n",
    "\n",
    "#Check if a number is prime\n",
    "\n",
    "number = 18\n",
    "num_factors = 0\n",
    "\n",
    "for i in range (1, number+1):\n",
    "    if number % i == 0:\n",
    "        num_factors = num_factors + 1\n",
    "    \n",
    "print(num_factors)"
   ]
  },
  {
   "cell_type": "code",
   "execution_count": 1,
   "id": "7a1b6180",
   "metadata": {},
   "outputs": [
    {
     "name": "stdout",
     "output_type": "stream",
     "text": [
      "Enter your number: 19\n",
      "Not a Prime number\n",
      "Not a Prime number\n",
      "Not a Prime number\n",
      "Not a Prime number\n",
      "Not a Prime number\n",
      "Not a Prime number\n",
      "Not a Prime number\n",
      "Not a Prime number\n",
      "Not a Prime number\n",
      "Not a Prime number\n",
      "Not a Prime number\n",
      "Not a Prime number\n",
      "Not a Prime number\n",
      "Not a Prime number\n",
      "Not a Prime number\n",
      "Not a Prime number\n",
      "Not a Prime number\n",
      "Not a Prime number\n",
      "Prime number\n"
     ]
    }
   ],
   "source": [
    "# prime number --> factors are 1 and itself aside from 1 \n",
    "\n",
    "#Check if a number is prime\n",
    "\n",
    "number = int(input(\"Enter your number: \"))\n",
    "num_factors = 0\n",
    "\n",
    "for i in range (1, number+1):\n",
    "    if number % i == 0:\n",
    "        num_factors = num_factors + 1\n",
    "    \n",
    "    if num_factors == 2:\n",
    "        print(\"Prime number\")\n",
    "    \n",
    "    else:\n",
    "        print(\"Not a Prime number\")\n",
    "        "
   ]
  },
  {
   "cell_type": "code",
   "execution_count": 54,
   "id": "51d919fe",
   "metadata": {},
   "outputs": [
    {
     "name": "stdout",
     "output_type": "stream",
     "text": [
      "Not a Prime number\n",
      "Not a Prime number\n",
      "Not a Prime number\n",
      "Not a Prime number\n",
      "Not a Prime number\n",
      "Not a Prime number\n",
      "Not a Prime number\n",
      "Not a Prime number\n",
      "Not a Prime number\n",
      "Not a Prime number\n",
      "[]\n"
     ]
    }
   ],
   "source": [
    "# prime number --> factors are 1 and itself aside from 1 \n",
    "\n",
    "#Check if a number is prime\n",
    "\n",
    "primelist = []\n",
    "\n",
    "for every_num in range (1, 10+1):\n",
    "    if number % i == 0:\n",
    "        num_factors = num_factors + 1\n",
    "    \n",
    "    if num_factors == 2:\n",
    "        print(every_num, \"is a Prime number\")\n",
    "    \n",
    "    else:\n",
    "        print(\"Not a Prime number\")\n",
    "\n",
    "print(primelist)"
   ]
  },
  {
   "cell_type": "code",
   "execution_count": 3,
   "id": "55d27cd7",
   "metadata": {},
   "outputs": [
    {
     "name": "stdout",
     "output_type": "stream",
     "text": [
      "Not a Prime number\n"
     ]
    }
   ],
   "source": [
    "#Check if a number is prime (function form)\n",
    "number = 19\n",
    "def CheckPrime(number):\n",
    "\n",
    "    num_factors = 0\n",
    "\n",
    "    for i in range (1, number+1):\n",
    "        if number % i == 0:\n",
    "            num_factors = num_factors + 1\n",
    "\n",
    "    if num_factors == 2:\n",
    "        print(number, \"is a Prime number\")\n",
    "    \n",
    "    else:\n",
    "        print(\"Not a Prime number\")\n",
    "\n",
    "CheckPrime(21)"
   ]
  },
  {
   "cell_type": "code",
   "execution_count": 62,
   "id": "3dd5aaf3",
   "metadata": {},
   "outputs": [
    {
     "ename": "SyntaxError",
     "evalue": "invalid syntax (742004655.py, line 4)",
     "output_type": "error",
     "traceback": [
      "\u001b[0;36m  Cell \u001b[0;32mIn[62], line 4\u001b[0;36m\u001b[0m\n\u001b[0;31m    1, 1, 2, 3, 5, 8, 13, 21, 34, 55 ...\u001b[0m\n\u001b[0m                                     ^\u001b[0m\n\u001b[0;31mSyntaxError\u001b[0m\u001b[0;31m:\u001b[0m invalid syntax\n"
     ]
    }
   ],
   "source": [
    "#Fibonacci\n",
    "n = n_(n-1)+ n_(-2)\n",
    "n = a + b\n",
    "\n",
    "1, 1, 2, 3, 5, 8, 13, 21, 34, 55 ..."
   ]
  },
  {
   "cell_type": "code",
   "execution_count": 69,
   "id": "957126cb",
   "metadata": {},
   "outputs": [
    {
     "name": "stdout",
     "output_type": "stream",
     "text": [
      "1\n",
      "1\n",
      "2\n",
      "3\n",
      "5\n",
      "8\n",
      "13\n",
      "21\n",
      "34\n",
      "55\n",
      "89\n",
      "144\n"
     ]
    }
   ],
   "source": [
    "a = 1\n",
    "b = 1\n",
    "\n",
    "while True:\n",
    "\n",
    "    print(a)\n",
    "    \n",
    "    n = a + b\n",
    "    a = b\n",
    "    b = n\n",
    "\n",
    "    if a > 200:\n",
    "        break"
   ]
  },
  {
   "cell_type": "code",
   "execution_count": 75,
   "id": "c78d5180",
   "metadata": {
    "scrolled": true
   },
   "outputs": [
    {
     "name": "stdout",
     "output_type": "stream",
     "text": [
      "5\n",
      "9\n",
      "14\n",
      "23\n",
      "37\n",
      "60\n",
      "97\n",
      "157\n",
      "254\n",
      "411\n"
     ]
    }
   ],
   "source": [
    "a = 5\n",
    "b = 9\n",
    "\n",
    "ctr = 0\n",
    "\n",
    "while True:\n",
    "\n",
    "    print(a)\n",
    "    \n",
    "    n = a + b\n",
    "    a = b\n",
    "    b = n\n",
    "\n",
    "    ctr += 1\n",
    "    \n",
    "    if ctr >= 10:\n",
    "        break"
   ]
  },
  {
   "cell_type": "code",
   "execution_count": 20,
   "id": "4376fb40",
   "metadata": {},
   "outputs": [
    {
     "name": "stdout",
     "output_type": "stream",
     "text": [
      "2\n",
      "Guess the random number: 3\n",
      "Your guess is too high! Guess again!\n",
      "Guess the random number: 4\n",
      "Your guess is too high! Guess again!\n",
      "Guess the random number: 1\n",
      "Your guess is too low! Guess again!\n",
      "Guess the random number: 2\n",
      "You guessed it right!\n"
     ]
    }
   ],
   "source": [
    "import random\n",
    "\n",
    "random_number = random.randint(1, 10)\n",
    "print(random_number)\n",
    "guess = int(input('Guess the random number: '))\n",
    "\n",
    "while guess != random_number:\n",
    "    if guess < random_number:\n",
    "        print('Your guess is too low! Guess again!')\n",
    "    if guess > random_number:\n",
    "        print('Your guess is too high! Guess again!')\n",
    "    guess = int(input('Guess the random number: '))\n",
    "\n",
    "print(\"You guessed it right!\")"
   ]
  },
  {
   "cell_type": "code",
   "execution_count": 4,
   "id": "ca682a52",
   "metadata": {},
   "outputs": [
    {
     "name": "stdout",
     "output_type": "stream",
     "text": [
      "Enter a number that you want me to print a multiplication table9\n",
      "9\n",
      "18\n",
      "27\n",
      "36\n",
      "45\n",
      "54\n",
      "63\n",
      "72\n",
      "81\n",
      "90\n"
     ]
    }
   ],
   "source": [
    "#Multiplication Table\n",
    "number = int(input(\"Enter a number that you want me to print a multiplication table\"))\n",
    "\n",
    "for n in range(1,10+1):\n",
    "    print(number * n)"
   ]
  },
  {
   "cell_type": "code",
   "execution_count": 22,
   "id": "bd23609c",
   "metadata": {},
   "outputs": [
    {
     "name": "stdout",
     "output_type": "stream",
     "text": [
      "Enter a string: ksiaoosfienee\n",
      "8\n"
     ]
    }
   ],
   "source": [
    "#Vowel Counter\n",
    "\n",
    "string = input('Enter a string: ')\n",
    "counter = 0\n",
    "for i in string:\n",
    "    if i == 'a' or i == 'e' or i == 'i' or i =='o' or i=='u':\n",
    "        counter += 1\n",
    "\n",
    "print(counter)"
   ]
  },
  {
   "cell_type": "code",
   "execution_count": 30,
   "id": "2602fc27",
   "metadata": {},
   "outputs": [
    {
     "name": "stdout",
     "output_type": "stream",
     "text": [
      "120\n"
     ]
    }
   ],
   "source": [
    "#Factorial Calculation\n",
    "# 5! = 5*4*3*2*1 or 1*2*3*4*5\n",
    "fac=1\n",
    "for n in range(1, 6):\n",
    "    fac *= n\n",
    "\n",
    "print(fac)"
   ]
  },
  {
   "cell_type": "code",
   "execution_count": 32,
   "id": "7984b40f",
   "metadata": {},
   "outputs": [
    {
     "data": {
      "text/plain": [
       "'racecar'"
      ]
     },
     "execution_count": 32,
     "metadata": {},
     "output_type": "execute_result"
    }
   ],
   "source": [
    "#Palindrome Check\n",
    "word = \"racecar\"\n",
    "word[::-1]"
   ]
  },
  {
   "cell_type": "code",
   "execution_count": 36,
   "id": "bcf4c9c2",
   "metadata": {},
   "outputs": [],
   "source": [
    "a = []"
   ]
  },
  {
   "cell_type": "code",
   "execution_count": 51,
   "id": "22c626e3",
   "metadata": {},
   "outputs": [
    {
     "name": "stdout",
     "output_type": "stream",
     "text": [
      "Input a number:3\n",
      "Input a number:4\n",
      "Input a number:5\n",
      "Input a number:11\n",
      "Input a number:-3\n",
      "[3, 4, 5, 11, -3]\n",
      "-3\n",
      "11\n"
     ]
    }
   ],
   "source": [
    "# NUMBER 7 OF 2ND PRACTICE FILE!!\n",
    "setfunc = []\n",
    "\n",
    "while True:\n",
    "    func = int(input('Input a number:'))\n",
    "    setfunc.append(func)\n",
    "    if func < 0:\n",
    "        break\n",
    "        \n",
    "print(setfunc)\n",
    "print(min(setfunc))\n",
    "print(max(setfunc))"
   ]
  },
  {
   "cell_type": "code",
   "execution_count": null,
   "id": "a1204d72",
   "metadata": {},
   "outputs": [],
   "source": [
    " #10 #BINARY EXERCISES\n",
    "def binary_to_decimal(binary):\n",
    "    decimal = 0\n",
    "    power = 0\n",
    "\n",
    "    # Iterate through the binary digits from right to left\n",
    "    for digit in reversed(str(binary)):\n",
    "        if digit == '1':\n",
    "            decimal += 2 ** power\n",
    "        power += 1\n",
    "\n",
    "    return decimal\n",
    "\n",
    "def decimal_to_binary(decimal):\n",
    "    binary = \"\"\n",
    "\n",
    "    if decimal == 0:\n",
    "        binary = \"0\"\n",
    "    \n",
    "    while decimal > 0:\n",
    "        binary = str(decimal % 2) + binary\n",
    "        decimal //= 2\n",
    "    \n",
    "    return binary\n"
   ]
  }
 ],
 "metadata": {
  "kernelspec": {
   "display_name": "Python 3 (ipykernel)",
   "language": "python",
   "name": "python3"
  },
  "language_info": {
   "codemirror_mode": {
    "name": "ipython",
    "version": 3
   },
   "file_extension": ".py",
   "mimetype": "text/x-python",
   "name": "python",
   "nbconvert_exporter": "python",
   "pygments_lexer": "ipython3",
   "version": "3.10.9"
  }
 },
 "nbformat": 4,
 "nbformat_minor": 5
}
